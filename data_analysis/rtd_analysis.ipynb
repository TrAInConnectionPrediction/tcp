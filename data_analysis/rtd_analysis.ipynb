{
 "cells": [
  {
   "cell_type": "code",
   "execution_count": null,
   "metadata": {},
   "outputs": [],
   "source": [
    "import sys\n",
    "sys.path.append('../')\n",
    "import dask\n",
    "import dask.dataframe as dd\n",
    "from dask.diagnostics import ProgressBar\n",
    "\n",
    "import sqlalchemy\n",
    "import pandas as pd\n",
    "import numpy as np \n",
    "import matplotlib.pyplot as plt\n",
    "import matplotlib\n",
    "from RtdRay import RtdRay\n",
    "from mpl_toolkits.basemap import Basemap\n",
    "from helpers.StationPhillip import StationPhillip\n",
    "\n",
    "rtd = RtdRay(notebook=True)"
   ]
  },
  {
   "cell_type": "markdown",
   "metadata": {},
   "source": [
    "### Delay analysis"
   ]
  },
  {
   "cell_type": "code",
   "execution_count": null,
   "metadata": {},
   "outputs": [],
   "source": [
    "def get_delays(rtd_df):\n",
    "    rtd_df['ar_happened'] = rtd_df['ar_cs'] == 'c'\n",
    "    rtd_df['ar_cancellation_time_delta'] = (rtd_df['ar_clt'] - rtd_df['ar_pt']) / pd.Timedelta(minutes=1)\n",
    "    rtd_df['ar_delay'] = (rtd_df['ar_ct'] - rtd_df['ar_pt']) / pd.Timedelta(minutes=1)\n",
    "    ar_mask = ((rtd_df['ar_cs'] != 'c')) & (rtd_df['ar_delay'].notnull())\n",
    "    rtd_df['ar_on_time_3'] = rtd_df.loc[ar_mask, 'ar_delay'] < 4\n",
    "    rtd_df['ar_on_time_5'] = rtd_df.loc[ar_mask, 'ar_delay'] < 6\n",
    "    rtd_df['ar_fern_on_time_5'] = rtd_df.loc[rtd_df['f'] == 'F', 'ar_on_time_5']\n",
    "\n",
    "    rtd_df['dp_happened'] = rtd_df['dp_cs'] == 'c'\n",
    "    rtd_df['dp_cancellation_time_delta'] = (rtd_df['dp_clt'] - rtd_df['dp_pt']) / pd.Timedelta(minutes=1)\n",
    "    rtd_df['dp_delay'] = (rtd_df['dp_ct'] - rtd_df['dp_pt']) / pd.Timedelta(minutes=1)\n",
    "    dp_mask = ((rtd_df['dp_cs'] != 'c')) & (rtd_df['dp_delay'].notnull())\n",
    "    rtd_df['dp_on_time_3'] = rtd_df.loc[dp_mask, 'dp_delay'] < 4\n",
    "    rtd_df['dp_on_time_5'] = rtd_df.loc[dp_mask, 'dp_delay'] < 6\n",
    "    rtd_df['dp_fern_on_time_5'] = rtd_df.loc[rtd_df['f'] == 'F', 'dp_on_time_5']\n",
    "\n",
    "    return rtd_df"
   ]
  },
  {
   "cell_type": "markdown",
   "metadata": {},
   "source": [
    "### Analysis per station "
   ]
  },
  {
   "cell_type": "code",
   "execution_count": null,
   "metadata": {},
   "outputs": [],
   "source": [
    "class PerStationAnalysis(StationPhillip):\n",
    "    FERN_ON_TIME_PLOT = {\n",
    "        'count_1': 'ar_fern_on_time_5',\n",
    "        'count_2': 'dp_fern_on_time_5',\n",
    "        'color_value': 'dp_fern_on_time_5'\n",
    "    }\n",
    "\n",
    "    ALL_ON_TIME_PLOT = {\n",
    "        'count_1': 'ar_delay',\n",
    "        'count_2': 'dp_delay',\n",
    "        'color_value': 'dp_on_time_5'\n",
    "    }\n",
    "\n",
    "    ALL_CANCELLATIONS_PLOT =  {\n",
    "        'count_1': 'ar_delay',\n",
    "        'count_2': 'dp_delay',\n",
    "        'color_value': 'dp_happened'\n",
    "    }\n",
    "\n",
    "    def __init__(self, rtd_df, data=None):\n",
    "        super().__init__(notebook=True)\n",
    "        if data is not None:\n",
    "            self.data = data\n",
    "        else:\n",
    "            self.data = rtd_df.groupby('station').agg({\n",
    "                    'ar_delay': ['mean', 'count'],\n",
    "                    'ar_on_time_3': ['mean'],\n",
    "                    'ar_on_time_5': ['mean'],\n",
    "                    'ar_happened': ['mean'],\n",
    "                    'ar_cancellation_time_delta': ['mean', 'count'],\n",
    "                    'ar_fern_on_time_5': ['mean', 'count'],\n",
    "                    'dp_delay': ['mean', 'count'],\n",
    "                    'dp_on_time_3': ['mean'],\n",
    "                    'dp_on_time_5': ['mean'],\n",
    "                    'dp_happened': ['mean'],\n",
    "                    'dp_cancellation_time_delta': ['mean', 'count'],\n",
    "                    'dp_fern_on_time_5': ['mean', 'count']\n",
    "                }).compute()\n",
    "            # remove station with less than 500 stops\n",
    "            self.data = self.data.loc[self.data[('dp_delay', 'count')] > 500, :]\n",
    "\n",
    "    def plot(self, data_to_plot):\n",
    "        left = 5.67\n",
    "        right = 15.64\n",
    "        bot = 47.06\n",
    "        top = 55.06\n",
    "        plt.figure(figsize=(90/2,50/2))\n",
    "        m = Basemap(llcrnrlon=left,llcrnrlat=bot,urcrnrlon=right,urcrnrlat=top,\n",
    "                    resolution='i', projection='tmerc', lat_0 = 51, lon_0 = 10)\n",
    "        m.drawcoastlines(linewidth=0.72, color='black')\n",
    "        m.drawcountries(zorder=0, color='black')\n",
    "\n",
    "        x = np.zeros(len(self.data.index))\n",
    "        y = np.zeros(len(self.data.index))\n",
    "        s = np.zeros(len(self.data.index))\n",
    "        c = np.zeros(len(self.data.index))\n",
    "\n",
    "        for i, station in enumerate(self.data.index):\n",
    "            x[i], y[i] = self.get_location(name=station)\n",
    "            s[i] = (self.data.loc[station, [(data_to_plot['count_1'], 'count')]][0] +\n",
    "                self.data.loc[station, [(data_to_plot['count_2'], 'count')]][0])\n",
    "            c[i] = self.data.loc[station, [(data_to_plot['color_value'], 'mean')]]\n",
    "\n",
    "        c = (c - min(c)) / max(c - min(c))\n",
    "        self.c = c\n",
    "\n",
    "        cmap = matplotlib.colors.LinearSegmentedColormap.from_list(\"\", [\"red\", 'yellow',\"green\"])\n",
    "        m.scatter(x, y, c=c, cmap=cmap, s=s, alpha=0.2, latlon=True)"
   ]
  },
  {
   "cell_type": "code",
   "execution_count": null,
   "metadata": {},
   "outputs": [],
   "source": [
    "rtd_df = rtd.load_data(columns=['station', 'c', 'ar_ct', 'ar_pt', 'dp_ct', 'dp_pt', 'ar_cs', 'ar_clt', 'dp_cs', 'dp_clt', 'f'])"
   ]
  },
  {
   "cell_type": "code",
   "execution_count": null,
   "metadata": {},
   "outputs": [],
   "source": [
    "rtd_df = get_delays(rtd_df)"
   ]
  },
  {
   "cell_type": "code",
   "execution_count": null,
   "metadata": {
    "tags": []
   },
   "outputs": [],
   "source": [
    "per_station = PerStationAnalysis(rtd_df)"
   ]
  },
  {
   "cell_type": "code",
   "execution_count": null,
   "metadata": {},
   "outputs": [],
   "source": [
    "per_station = PerStationAnalysis(rtd_df, per_station.data)"
   ]
  },
  {
   "cell_type": "code",
   "execution_count": null,
   "metadata": {
    "tags": []
   },
   "outputs": [],
   "source": [
    "per_station.plot(per_station.ALL_ON_TIME_PLOT)\n",
    "plt.show()"
   ]
  },
  {
   "cell_type": "markdown",
   "metadata": {},
   "source": [
    "### Datapoints over time"
   ]
  },
  {
   "cell_type": "code",
   "execution_count": null,
   "metadata": {},
   "outputs": [],
   "source": [
    "rtd_df = rtd.load_data(columns=['ar_pt'])"
   ]
  },
  {
   "cell_type": "code",
   "execution_count": null,
   "metadata": {},
   "outputs": [],
   "source": [
    "rtd_df['ar_pt'] = rtd_df['ar_pt'].dt.round(freq='D')"
   ]
  },
  {
   "cell_type": "code",
   "execution_count": null,
   "metadata": {},
   "outputs": [],
   "source": [
    "over_time = rtd_df.groupby('ar_pt').agg({'ar_pt': ['count']}).compute()"
   ]
  },
  {
   "cell_type": "code",
   "execution_count": null,
   "metadata": {},
   "outputs": [],
   "source": [
    "over_time.plot(kind='area')"
   ]
  },
  {
   "cell_type": "markdown",
   "metadata": {},
   "source": [
    "### train type stuff"
   ]
  },
  {
   "cell_type": "code",
   "execution_count": null,
   "metadata": {},
   "outputs": [],
   "source": [
    "def train_types_bubble_chart(rtd_df):\n",
    "    train_types = rtd_df['c']\n",
    "    per_train_type = train_types.value_counts()\n",
    "    per_train_type = np.sqrt(per_train_type.to_numpy() / np.pi)\n",
    "    print(per_train_type)\n",
    "    bubble_plot = BubbleChart(per_train_type)\n",
    "\n",
    "    fig, ax = plt.subplots(subplot_kw=dict(aspect=\"equal\"))\n",
    "    ax.axis(\"off\")\n",
    "\n",
    "    bubble_plot.collapse()\n",
    "\n",
    "    bubble_plot.plot(ax)\n",
    "    ax.relim()\n",
    "    ax.autoscale_view()\n",
    "    plt.show()"
   ]
  },
  {
   "cell_type": "code",
   "execution_count": null,
   "metadata": {},
   "outputs": [],
   "source": [
    "def train_types_pie_chart(rtd_df):\n",
    "    train_types = rtd_df['c']\n",
    "    per_train_type = train_types.value_counts()\n",
    "    per_train_type\n",
    "    per_train_type.plot.pie(figsize=(30, 30))"
   ]
  }
 ],
 "metadata": {
  "file_extension": ".py",
  "kernelspec": {
   "display_name": "Python 3.8.2 64-bit ('tcp': venv)",
   "language": "python",
   "name": "python38264bittcpvenv536302f1ebac43f284edfb312d4f7961"
  },
  "language_info": {
   "codemirror_mode": {
    "name": "ipython",
    "version": 3
   },
   "file_extension": ".py",
   "mimetype": "text/x-python",
   "name": "python",
   "nbconvert_exporter": "python",
   "pygments_lexer": "ipython3",
   "version": "3.8.2"
  },
  "mimetype": "text/x-python",
  "name": "python",
  "npconvert_exporter": "python",
  "pygments_lexer": "ipython3",
  "version": 3
 },
 "nbformat": 4,
 "nbformat_minor": 2
}
