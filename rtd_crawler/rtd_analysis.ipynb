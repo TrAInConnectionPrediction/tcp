{
 "cells": [
  {
   "cell_type": "code",
   "execution_count": null,
   "metadata": {},
   "outputs": [],
   "source": [
    "sys.path.append('../')\n",
    "import dask\n",
    "import dask.dataframe as dd\n",
    "from dask.diagnostics import ProgressBar\n",
    "\n",
    "import sqlalchemy\n",
    "import pandas as pd\n",
    "import numpy as np \n",
    "import matplotlib.pyplot as plt \n",
    "from RtdRay import RtdRay\n",
    "from mpl_toolkits.basemap import Basemap\n",
    "\n",
    "from config import db_database, db_password, db_server, db_username"
   ]
  },
  {
   "cell_type": "code",
   "execution_count": null,
   "metadata": {},
   "outputs": [],
   "source": [
    "def train_types_pie_chart(rtd_df):\n",
    "    train_types = rtd_df['train_type']\n",
    "    per_train_type = train_types.value_counts()\n",
    "    per_train_type.plot.pie(figsize=(30, 30))"
   ]
  },
  {
   "cell_type": "code",
   "execution_count": null,
   "metadata": {},
   "outputs": [],
   "source": [
    "def data_over_time(rtd_df):\n",
    "    rtd_df['arr'].plot()"
   ]
  },
  {
   "cell_type": "code",
   "execution_count": null,
   "metadata": {},
   "outputs": [],
   "source": [
    "def trains_per_station_map_bubble_plot(rtd_df):\n",
    "    trains_per_station = rtd_df['station'].value_counts()\n"
   ]
  },
  {
   "cell_type": "code",
   "execution_count": null,
   "metadata": {},
   "outputs": [],
   "source": [
    "def delay_over_time(delays):\n",
    "    delays['arr_delay'] = delays['arr_changed_time'] - delays['arr']\n",
    "    delays['arr_unix'] = delays['arr'] / 60\n",
    "    delays['arr'] = dd.to_datetime(delays['arr'] - delays['arr'] % (60 * 60 * 24), unit='s')\n",
    "    delays = delays.groupby('arr').agg({'arr_unix':['std'], 'arr_delay': ['mean', 'std', 'max', 'min']})\n",
    "    with ProgressBar():\n",
    "        return delays.compute()"
   ]
  },
  {
   "cell_type": "code",
   "execution_count": null,
   "metadata": {},
   "outputs": [],
   "source": [
    "rtd = RtdRay(notebook=True)\n",
    "delays = rtd.load_data(columns=['arr', 'arr_changed_time'])\n",
    "grouped_by = delay_over_time(delays)"
   ]
  },
  {
   "cell_type": "code",
   "execution_count": null,
   "metadata": {},
   "outputs": [],
   "source": [
    "plot = grouped_by.reset_index().plot.scatter(y=('arr_delay', 'max'), x=('arr'))"
   ]
  },
  {
   "cell_type": "code",
   "execution_count": null,
   "metadata": {},
   "outputs": [],
   "source": [
    "grouped_by.reset_index()"
   ]
  },
  {
   "cell_type": "code",
   "execution_count": null,
   "metadata": {},
   "outputs": [],
   "source": [
    "rtd.load_data(columns=['arr', 'arr_changed_time'])['arr_changed_time'].head()"
   ]
  },
  {
   "cell_type": "code",
   "execution_count": null,
   "metadata": {},
   "outputs": [],
   "source": [
    "delays = rtd.load_data(columns=['arr', 'arr_changed_time', 'arr_changed_platform', 'arr_changed_status', 'stay_time'])\n",
    "delays_df = delays.compute()\n",
    "delays_df['arr_changed_time'] - delays_df['arr']"
   ]
  }
 ],
 "metadata": {
  "language_info": {
   "name": "python",
   "codemirror_mode": {
    "name": "ipython",
    "version": 3
   },
   "version": "3.7.6-final"
  },
  "orig_nbformat": 2,
  "file_extension": ".py",
  "mimetype": "text/x-python",
  "name": "python",
  "npconvert_exporter": "python",
  "pygments_lexer": "ipython3",
  "version": 3,
  "kernelspec": {
   "name": "python37664bitbc34dfe4857b4389ab4dceed4ab98cc1",
   "display_name": "Python 3.7.6 64-bit"
  }
 },
 "nbformat": 4,
 "nbformat_minor": 2
}