{
 "cells": [
  {
   "cell_type": "code",
   "execution_count": 9,
   "metadata": {},
   "outputs": [],
   "source": [
    "sys.path.append('../')\n",
    "import pickle\n",
    "import geopy.distance\n",
    "\n",
    "import pandas as pd\n",
    "import networkx as nx \n",
    "import matplotlib.pyplot as plt \n",
    "import numpy as np \n",
    "import trassenfinder_route_request\n",
    "from helpers import StationPhillip\n",
    "from time import sleep\n",
    "import sqlalchemy\n",
    "import requests\n",
    "import re\n",
    "import sys\n",
    "\n",
    "from config import db_database, db_password, db_server, db_username"
   ]
  },
  {
   "cell_type": "code",
   "execution_count": null,
   "metadata": {},
   "outputs": [],
   "source": [
    "engine = sqlalchemy.create_engine('postgresql://'+ db_username +':' + db_password + '@' + db_server + '/' + db_database + '?sslmode=require')"
   ]
  },
  {
   "cell_type": "code",
   "execution_count": 10,
   "metadata": {
    "tags": []
   },
   "outputs": [
    {
     "name": "stdout",
     "output_type": "stream",
     "text": [
      "23088\n",
      "22984\n",
      "22969\n"
     ]
    }
   ],
   "source": [
    "betriebstellen = pd.read_csv('../data/betriebsstellen.csv', index_col=False, sep=';')\n",
    "betriebstellen = betriebstellen.rename(columns={'Abk':'ds100', 'Name':'name', 'Typ':'type', 'Primary location code':'location_code', 'Betr-Zust':'operation_state'})\n",
    "print(len(betriebstellen))\n",
    "betriebstellen = betriebstellen.drop_duplicates(subset=['ds100'], keep='first').reset_index(drop=True)\n",
    "print(len(betriebstellen))\n",
    "betriebstellen = betriebstellen.drop_duplicates(subset=['name'], keep='first').reset_index(drop=True)\n",
    "print(len(betriebstellen))\n",
    "geo_betriebstellen = pd.read_csv('../data/geo_betriebsstellen.csv', index_col=False, sep=',')\n",
    "geo_betriebstellen = geo_betriebstellen.rename(columns={'KUERZEL':'ds100', 'GEOGR_BREITE':'lat', 'GEOGR_LAENGE':'lon'})\n",
    "geo_betriebstellen = geo_betriebstellen.drop_duplicates(subset=['ds100'])\n",
    "geo_betriebstellen = geo_betriebstellen.set_index('ds100')"
   ]
  },
  {
   "cell_type": "code",
   "execution_count": 11,
   "metadata": {
    "tags": []
   },
   "outputs": [],
   "source": [
    "betriebstellen['lat'] = ''\n",
    "betriebstellen['lon'] = ''\n",
    "key_errors = 0\n",
    "for i in range(len(betriebstellen)):\n",
    "    ds100 = betriebstellen.at[i, 'ds100']\n",
    "    try:\n",
    "        betriebstellen.at[i, 'lat'] = geo_betriebstellen.at[ds100, 'lat']\n",
    "        betriebstellen.at[i, 'lon'] = geo_betriebstellen.at[ds100, 'lon']\n",
    "        continue\n",
    "    except KeyError:\n",
    "        key_errors += 1\n",
    "        continue\n",
    "    except Exception as e:\n",
    "        print(e)\n",
    "        continue"
   ]
  },
  {
   "cell_type": "code",
   "execution_count": 13,
   "metadata": {},
   "outputs": [],
   "source": [
    "betriebstellen = betriebstellen.loc[:, ['ds100', 'name', 'type', 'lat', 'lon', 'location_code', 'operation_state']]\n",
    "betriebstellen['lon'] = pd.to_numeric(betriebstellen['lon'], errors='coerce')\n",
    "betriebstellen['lat'] = pd.to_numeric(betriebstellen['lat'], errors='coerce')"
   ]
  },
  {
   "cell_type": "code",
   "execution_count": 14,
   "metadata": {},
   "outputs": [],
   "source": [
    "betriebstellen.to_sql('betriebstellen', if_exists='replace', method='multi', con=engine)"
   ]
  },
  {
   "cell_type": "code",
   "execution_count": null,
   "metadata": {},
   "outputs": [],
   "source": [
    "pd.read_sql('SELECT * FROM betriebstellen', con=engine)"
   ]
  },
  {
   "cell_type": "code",
   "execution_count": null,
   "metadata": {},
   "outputs": [],
   "source": [
    "station_df = pd.read_csv('../data/new_staions_for_streckennetz.csv', index_col=False, engine='c')\n",
    "station_df.to_sql('stations', if_exists='replace', method='multi', con=engine)"
   ]
  },
  {
   "cell_type": "code",
   "execution_count": null,
   "metadata": {},
   "outputs": [],
   "source": [
    "planned_path_df = pd.read_feather('../data_buffer/planned_path_df')"
   ]
  },
  {
   "cell_type": "code",
   "execution_count": null,
   "metadata": {},
   "outputs": [],
   "source": []
  },
  {
   "cell_type": "code",
   "execution_count": null,
   "metadata": {
    "tags": []
   },
   "outputs": [],
   "source": [
    "for i in range(len(stations)):\n",
    "    if pd.isna( stations.at[i, 'lat']) or pd.isna( stations.at[i, 'lon']):\n",
    "        station_eva = stations.at[i, 'eva']\n",
    "        response = requests.get('https://marudor.de/api/station/v1/station/' + str(station_eva))\n",
    "        # print(response)\n",
    "        response = response.json()\n",
    "        try:\n",
    "            # print('requesting')\n",
    "            stations.at[i, 'lat'] = response['location']['latitude']\n",
    "            stations.at[i, 'lon'] = response['location']['longitude']\n",
    "            # print(response['location']['lat'], response['location']['lng'])\n",
    "        except KeyError:\n",
    "            print(stations.at[i, 'name'], response)\n",
    "            # break\n",
    "            continue"
   ]
  },
  {
   "cell_type": "code",
   "execution_count": null,
   "metadata": {},
   "outputs": [],
   "source": [
    "for i in range(len(stations)):\n",
    "    station_eva = stations.at[i, 'eva']\n",
    "\n",
    "    response = requests.get('https://marudor.de/api/station/v1/iris/' + station_eva)\n",
    "    # print(response)\n",
    "    response = response.json()\n",
    "    # print(response)\n",
    "    try:\n",
    "        # print('requesting')\n",
    "        ds100 = response['station']['ds100']\n",
    "    except KeyError:\n",
    "        print(response)\n",
    "        continue\n",
    "    stations.at[i, 'ds100'] = ds100\n",
    "    for related_station in response['relatedStations']:\n",
    "        new_dict = {'eva':[related_station['eva']], 'name':[related_station['name']], 'ds100':[related_station['name']], 'lat':[''], 'lon':[''], 'mutter':[related_station['meta']]}\n",
    "        new_station = pd.DataFrame(new_dict)\n",
    "        if not related_station['name'] in stations['name'].values:\n",
    "            stations = stations.append(new_station, ignore_index=True)\n",
    "            print('found station:', related_station['name'])\n"
   ]
  },
  {
   "cell_type": "code",
   "execution_count": null,
   "metadata": {
    "tags": []
   },
   "outputs": [],
   "source": [
    "# station_names = stations.loc[:, 'name'].tolist()\n",
    "# bar = Bar('checking if stations are in stations.csv', max=len(planned_path_df))\n",
    "for number, path in enumerate(planned_path_df.iloc[:, 1]):\n",
    "    if number % 1000 == 0:\n",
    "        print(number)\n",
    "    # bar.next()\n",
    "    if path:\n",
    "        path = re.sub(r'(?!(([^\"]*\"){2})*[^\"]*$),', ';;;', path)\n",
    "        path = path.replace('{', '').replace('}', '').replace('\"', '').split(',')\n",
    "        for station in path:\n",
    "            station = station.replace(';;;', ',')\n",
    "            if not station in station_names and not station in not_found:\n",
    "                # print(station)\n",
    "                response = requests.get('https://marudor.de/api/hafas/v1/station/' + station.replace('/', ''))\n",
    "                # print(response)\n",
    "                response = response.json()\n",
    "                for stations_data in response:\n",
    "                    if stations_data['title'] == station:\n",
    "                        new_dict = {'eva':[stations_data['id']], 'name':[stations_data['title']], 'ds100':[''], 'lat':[stations_data['coordinates']['lat']], 'lon':[stations_data['coordinates']['lng']]}\n",
    "                        new_station = pd.DataFrame(new_dict)\n",
    "                        stations = stations.append(new_station, ignore_index=True)\n",
    "                        station_names.append(stations_data['title'])\n",
    "                        break\n",
    "                else:\n",
    "                    not_found.append(station)\n",
    "                    print('nothing found for', station)\n",
    "    else:\n",
    "        continue"
   ]
  },
  {
   "cell_type": "code",
   "execution_count": null,
   "metadata": {},
   "outputs": [],
   "source": [
    "for i in range(len(stations)):\n",
    "    if pd.isna( stations.at[i, 'lat']):\n",
    "        station_eva = stations.at[i, 'eva']\n",
    "        response = requests.get('https://marudor.de/api/station/v1/station/' + str(station_eva))\n",
    "        # print(response)\n",
    "        response = response.json()\n",
    "        try:\n",
    "            # print('requesting')\n",
    "            stations.at[i, 'lat'] = response['location']['latitude']\n",
    "            stations.at[i, 'lon'] = response['location']['longitude']\n",
    "        except KeyError:\n",
    "            print(stations.at[i, 'name'], response)\n",
    "            continue"
   ]
  },
  {
   "cell_type": "code",
   "execution_count": 2,
   "metadata": {},
   "outputs": [],
   "source": [
    "from pyhafas import HafasClient\n",
    "from pyhafas.profile import DBProfile\n",
    "\n",
    "client = HafasClient(DBProfile())\n",
    "\n",
    "stations = client.locations(\"Tübingen\")"
   ]
  },
  {
   "cell_type": "code",
   "execution_count": 3,
   "metadata": {},
   "outputs": [
    {
     "output_type": "execute_result",
     "data": {
      "text/plain": [
       "<class 'pyhafas.types.fptf.Station'>({'id': '000752120', 'name': 'Westbahnhof, Tübingen', 'latitude': 48.520445, 'longitude': 9.039211})"
      ]
     },
     "metadata": {},
     "execution_count": 3
    }
   ],
   "source": [
    "stations[6]"
   ]
  }
 ],
 "metadata": {
  "file_extension": ".py",
  "kernelspec": {
   "display_name": "Python 3.8.5 64-bit",
   "language": "python",
   "name": "python38564bitf758a6857a254841bcb52e28d0cb65f0"
  },
  "language_info": {
   "codemirror_mode": {
    "name": "ipython",
    "version": 3
   },
   "file_extension": ".py",
   "mimetype": "text/x-python",
   "name": "python",
   "nbconvert_exporter": "python",
   "pygments_lexer": "ipython3",
   "version": "3.8.5-final"
  },
  "mimetype": "text/x-python",
  "name": "python",
  "npconvert_exporter": "python",
  "pygments_lexer": "ipython3",
  "version": 3
 },
 "nbformat": 4,
 "nbformat_minor": 2
}