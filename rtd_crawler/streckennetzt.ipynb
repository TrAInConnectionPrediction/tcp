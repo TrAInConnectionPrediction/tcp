{
 "cells": [
  {
   "cell_type": "code",
   "execution_count": null,
   "metadata": {},
   "outputs": [],
   "source": [
    "sys.path.append('../')\n",
    "import json\n",
    "\n",
    "import requests\n",
    "import pickle\n",
    "import geopy.distance\n",
    "\n",
    "import pandas as pd\n",
    "import networkx as nx\n",
    "import matplotlib.pyplot as plt \n",
    "from mpl_toolkits.basemap import Basemap\n",
    "import numpy as np \n",
    "# import swagger_client\n",
    "import trassenfinder_route_request\n",
    "from helpers.StationPhillip import StationPhillip\n",
    "from helpers.BetriebsstellenBill import BetriebsstellenBill\n",
    "from progress.bar import Bar\n",
    "from time import sleep\n",
    "import sqlalchemy\n",
    "import sys\n",
    "\n",
    "from config import db_database, db_password, db_server, db_username\n",
    "\n",
    "import dask\n",
    "import dask.dataframe as dd"
   ]
  },
  {
   "cell_type": "code",
   "execution_count": null,
   "metadata": {},
   "outputs": [],
   "source": [
    "engine = sqlalchemy.create_engine('postgresql://'+ db_username +':' + db_password + '@' + db_server + '/' + db_database + '?sslmode=require') #\n",
    "\n",
    "planned_path_df = pd.read_sql('SELECT pla_arr_path, pla_dep_path FROM rtd WHERE train_type <>\\'Bus\\'', con=engine)"
   ]
  },
  {
   "cell_type": "code",
   "execution_count": null,
   "metadata": {},
   "outputs": [],
   "source": [
    "planned_path_df = pd.read_feather('../data_buffer/planned_path_df')"
   ]
  },
  {
   "cell_type": "code",
   "execution_count": null,
   "metadata": {},
   "outputs": [],
   "source": [
    "planned_path_df.reset_index(drop=True).to_feather('../data_buffer/planned_path_df')"
   ]
  },
  {
   "cell_type": "code",
   "execution_count": null,
   "metadata": {},
   "outputs": [],
   "source": [
    "planned_path_df = planned_path_df.sample(n=1000000).reset_index(drop=True) # "
   ]
  },
  {
   "cell_type": "code",
   "execution_count": null,
   "metadata": {},
   "outputs": [],
   "source": [
    "betriebstellen = BetriebsstellenBill()\n",
    "stations = StationPhillip()\n",
    "checked = pickle.load( open( \"../checked_pickle\", \"rb\" ) )\n",
    "streckennetz = pickle.load( open( \"../streckennetz3_pickle\", \"rb\" ) )"
   ]
  },
  {
   "cell_type": "code",
   "execution_count": null,
   "metadata": {},
   "outputs": [],
   "source": [
    "streckennetz = pickle.load( open( \"../streckennetz3_pickle\", \"rb\" ) )"
   ]
  },
  {
   "cell_type": "code",
   "execution_count": null,
   "metadata": {
    "tags": [
     "outputPrepend"
    ]
   },
   "outputs": [],
   "source": [
    "# These coordinates form the bounding box of Germany\n",
    "left = 5.67\n",
    "right = 15.64\n",
    "bot = 47.06\n",
    "top = 55.06\n",
    "plt.figure(figsize=(180/2,100/2))\n",
    "m = Basemap(llcrnrlon=left,llcrnrlat=bot,urcrnrlon=right,urcrnrlat=top,\n",
    "             resolution='i', projection='tmerc', lat_0 = 51, lon_0 = 10)\n",
    "\n",
    "m.drawcoastlines(linewidth=0.72, color='black')\n",
    "m.drawcountries(zorder=0, color='black')\n",
    "m.drawrivers(color='blue')\n",
    "\n",
    "# xpt,ypt = m(stations.station_df['lon'].to_numpy(), stations.station_df['lat'].to_numpy())\n",
    "# m.scatter(x=xpt, y=ypt, marker='.')\n",
    "\n",
    "for (n1,n2) in streckennetz.edges(data=False):\n",
    "    att_list = [att for att in streckennetz[n1][n2]]\n",
    "    for att in att_list:\n",
    "        if not att == 'distance':\n",
    "            if att == 'length_km':\n",
    "                streckennetz[n1][n2]['distance'] = streckennetz[n1][n2]['length_km']\n",
    "            streckennetz[n1][n2].pop(att, None) \n",
    "\n",
    "positions = {}\n",
    "betriebsstellen_without_location = []\n",
    "for station in streckennetz.nodes():\n",
    "    if not station:\n",
    "        streckennetz.remove_node(station)\n",
    "        # print(\"removed node\")\n",
    "    try:\n",
    "        positions[station] = m(*stations.get_location(name=station))\n",
    "    except KeyError:\n",
    "        try:\n",
    "            positions[station] = m(*stations.get_location(ds100=station))\n",
    "        except KeyError:\n",
    "            try:\n",
    "                positions[station] = m(*betriebstellen.get_location(ds100=station))\n",
    "            except betriebstellen.NoLocationError:\n",
    "                betriebsstellen_without_location.append(station)\n",
    "                # positions[station] = m(0.0,0.0)\n",
    "            except KeyError:\n",
    "                betriebsstellen_without_location.append(station)\n",
    "                # positions[station] = m(0.0,0.0)\n",
    "    # if not positions[station][0] or not positions[station][1]:\n",
    "    #     del positions[station]\n",
    "\n",
    "# for station in streckennetz.nodes():\n",
    "#     positions[station] = m(0.0,0.0)\n",
    "positions = nx.spring_layout(streckennetz, k=0.0001, pos=positions, fixed = positions.keys())\n",
    "nx.draw_networkx(streckennetz, pos=positions) #nx.spring_layout(streckennetz))\n",
    "\n",
    "plt.show()"
   ]
  },
  {
   "cell_type": "code",
   "execution_count": null,
   "metadata": {},
   "outputs": [],
   "source": [
    "[(n1, n2) for (n1, n2) in streckennetz.edges()][0]"
   ]
  },
  {
   "cell_type": "code",
   "execution_count": null,
   "metadata": {},
   "outputs": [],
   "source": [
    "streckennetz['Mönchengladbach Hbf']['Utrecht Centraal']"
   ]
  },
  {
   "cell_type": "code",
   "execution_count": null,
   "metadata": {},
   "outputs": [],
   "source": [
    "g = nx.Graph()\n",
    "g.add_edge('foo', 'bar')\n",
    "g.add_edge(np.nan, np.nan)"
   ]
  },
  {
   "cell_type": "code",
   "execution_count": null,
   "metadata": {},
   "outputs": [],
   "source": [
    "df = nx.to_pandas_edgelist(streckennetz)"
   ]
  },
  {
   "cell_type": "code",
   "execution_count": null,
   "metadata": {},
   "outputs": [],
   "source": [
    "df = df.dropna(subset=['source', 'target']).reset_index(drop=True)\n",
    "streckennetz = nx.from_pandas_edgelist(df)"
   ]
  },
  {
   "cell_type": "code",
   "execution_count": null,
   "metadata": {},
   "outputs": [],
   "source": [
    "def get_paths_from_db():\n",
    "    db_connect_string = 'postgresql://'+ db_username +':' + db_password + '@' + db_server + '/' + db_database + '?sslmode=require'\n",
    "    planned_paths = dd.read_sql_table('rtd', db_connect_string, index_col='index', columns=['arr'], head_rows=10)\n",
    "    return planned_paths.astype('Int64')"
   ]
  },
  {
   "cell_type": "code",
   "execution_count": null,
   "metadata": {},
   "outputs": [],
   "source": [
    "meta_df = pd.DataFrame({'arr': pd.Series([], dtype='Int64')})"
   ]
  },
  {
   "cell_type": "code",
   "execution_count": null,
   "metadata": {},
   "outputs": [],
   "source": [
    "df = get_paths_from_db()"
   ]
  },
  {
   "cell_type": "code",
   "execution_count": null,
   "metadata": {},
   "outputs": [],
   "source": [
    "df = df.compute()"
   ]
  },
  {
   "cell_type": "code",
   "execution_count": null,
   "metadata": {},
   "outputs": [],
   "source": [
    "df['arr']"
   ]
  },
  {
   "cell_type": "code",
   "execution_count": null,
   "metadata": {},
   "outputs": [],
   "source": [
    "db_connect_string = 'postgresql://'+ db_username +':' + db_password + '@' + db_server + '/' + db_database + '?sslmode=require'\n",
    "arr = pd.read_sql('SELECT arr FROM rtd', con=db_connect_string, coerce_float=False)"
   ]
  },
  {
   "cell_type": "code",
   "execution_count": null,
   "metadata": {},
   "outputs": [],
   "source": [
    "arr.loc[:10, 'arr'] "
   ]
  },
  {
   "cell_type": "code",
   "execution_count": null,
   "metadata": {},
   "outputs": [],
   "source": [
    "arr"
   ]
  },
  {
   "cell_type": "code",
   "execution_count": null,
   "metadata": {},
   "outputs": [],
   "source": []
  }
 ],
 "metadata": {
  "language_info": {
   "name": "python",
   "codemirror_mode": {
    "name": "ipython",
    "version": 3
   },
   "version": "3.8.2-final"
  },
  "orig_nbformat": 2,
  "file_extension": ".py",
  "mimetype": "text/x-python",
  "name": "python",
  "npconvert_exporter": "python",
  "pygments_lexer": "ipython3",
  "version": 3,
  "kernelspec": {
   "name": "python38264bittcpvenv536302f1ebac43f284edfb312d4f7961",
   "display_name": "Python 3.8.2 64-bit ('tcp': venv)"
  }
 },
 "nbformat": 4,
 "nbformat_minor": 2
}