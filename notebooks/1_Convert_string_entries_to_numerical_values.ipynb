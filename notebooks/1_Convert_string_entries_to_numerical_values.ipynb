{
 "cells": [
  {
   "cell_type": "code",
   "execution_count": null,
   "metadata": {},
   "outputs": [],
   "source": [
    "import pandas as pd\n",
    "%matplotlib inline"
   ]
  },
  {
   "cell_type": "markdown",
   "metadata": {},
   "source": [
    "## Lesen der ICEs"
   ]
  },
  {
   "cell_type": "code",
   "execution_count": null,
   "metadata": {},
   "outputs": [],
   "source": [
    "df = pd.read_csv('combinedData/alltrains.csv', index_col=False, compression='zip')"
   ]
  },
  {
   "cell_type": "code",
   "execution_count": null,
   "metadata": {},
   "outputs": [],
   "source": [
    "df.head()"
   ]
  },
  {
   "cell_type": "markdown",
   "metadata": {},
   "source": [
    "## Für String Spalten jeweils eine numerische Spalte anlegen\n",
    "Zur späteren Umwandlung werden auch Dictinaries bereit gestellt, die mit `.map(dictinary)` auf die jeweilige Spalte angewendet werden können.  "
   ]
  },
  {
   "cell_type": "markdown",
   "metadata": {},
   "source": [
    "### Entfernen aller Zeilen mit NaN Werten"
   ]
  },
  {
   "cell_type": "code",
   "execution_count": null,
   "metadata": {},
   "outputs": [],
   "source": [
    "df.count()"
   ]
  },
  {
   "cell_type": "code",
   "execution_count": null,
   "metadata": {},
   "outputs": [],
   "source": [
    "df = df.dropna()\n",
    "df.count()"
   ]
  },
  {
   "cell_type": "markdown",
   "metadata": {},
   "source": [
    "### Bahnhöfe\n",
    "Die Nummerierung wird zunächst automatisch erstellet und anschließend wird ein Dictionary `bhf_cats` extrahiert.\n",
    "Der Alte code"
   ]
  },
  {
   "cell_type": "markdown",
   "metadata": {},
   "source": [
    "`\n",
    "df['bhf_cat'] = pd.Categorical(df['bhf'], categories=df['bhf'].unique()).codes\n",
    "bhf_df = df[['bhf', 'bhf_cat']]\n",
    "bhf_df = bhf_df.drop_duplicates()\n",
    "bhf_cats = {x['bhf']: x['bhf_cat'] for x in bhf_df.to_dict('records')}\n",
    "`"
   ]
  },
  {
   "cell_type": "code",
   "execution_count": null,
   "metadata": {},
   "outputs": [],
   "source": [
    "bhfs = pd.read_csv(\"wetterdaten/bahnhof_to_weather_location.csv\", index_col=False)\n",
    "bhfs['bhf_cat'] = bhfs.index\n",
    "bhf_cats = {x['bhf']: x['bhf_cat'] for x in bhfs.to_dict('records')}\n",
    "bhf_cats"
   ]
  },
  {
   "cell_type": "code",
   "execution_count": null,
   "metadata": {},
   "outputs": [],
   "source": [
    "df['bhf_cat'] = df['bhf'].map(bhf_cats)\n",
    "df[['bhf', 'bhf_cat']].drop_duplicates()"
   ]
  },
  {
   "cell_type": "markdown",
   "metadata": {},
   "source": [
    "### Wochentage\n",
    "\n",
    "Hier wird direkt das Dictionary `dayname_cats` per Hand erstellt und dann angewendet."
   ]
  },
  {
   "cell_type": "code",
   "execution_count": null,
   "metadata": {},
   "outputs": [],
   "source": [
    "df['dayname'].unique()"
   ]
  },
  {
   "cell_type": "code",
   "execution_count": null,
   "metadata": {},
   "outputs": [],
   "source": [
    "dayname_cats = {'Monday': 0,  'Tuesday': 1,  'Wednesday': 2, 'Thursday': 3, 'Friday': 4, 'Saturday': 5, 'Sunday': 6}\n",
    "df['dayname_cat'] = df['dayname'].map(dayname_cats)\n",
    "df['dayname_cat'].value_counts()"
   ]
  },
  {
   "cell_type": "markdown",
   "metadata": {},
   "source": [
    "### Zugnummern\n",
    "\n",
    "Diese werden wieder zunächst automatisch generiert und dann ein Dictionary `trainno_cats` extrahiert."
   ]
  },
  {
   "cell_type": "code",
   "execution_count": null,
   "metadata": {},
   "outputs": [],
   "source": [
    "df['trainno_cat'] = pd.Categorical(df['trainno'], categories=df['trainno'].unique()).codes\n",
    "\n",
    "trainno_df = df[['trainno', 'trainno_cat']]\n",
    "trainno_df = trainno_df.drop_duplicates()\n",
    "trainno_df.count()"
   ]
  },
  {
   "cell_type": "code",
   "execution_count": null,
   "metadata": {},
   "outputs": [],
   "source": [
    "trainno_cats = {x['trainno']: x['trainno_cat'] for x in trainno_df.to_dict('records')}\n",
    "trainno_cats"
   ]
  },
  {
   "cell_type": "markdown",
   "metadata": {},
   "source": [
    "### Wetter"
   ]
  },
  {
   "cell_type": "code",
   "execution_count": null,
   "metadata": {},
   "outputs": [],
   "source": [
    "df['weather_condition'] = df['weather_condition'].fillna('Na')\n",
    "df['weather_condition_cat'] = pd.Categorical(df['weather_condition'], categories=df['weather_condition'].unique()).codes\n",
    "\n",
    "weather_condition_df = df[['weather_condition', 'weather_condition_cat']]\n",
    "weather_condition_df = weather_condition_df.drop_duplicates()\n",
    "weather_condition_df.count()"
   ]
  },
  {
   "cell_type": "code",
   "execution_count": null,
   "metadata": {},
   "outputs": [],
   "source": [
    "weather_condition_cats = {x['weather_condition']: x['weather_condition_cat'] for x in weather_condition_df.to_dict('records')}\n",
    "weather_condition_cats"
   ]
  },
  {
   "cell_type": "markdown",
   "metadata": {},
   "source": [
    "### Wochentage"
   ]
  },
  {
   "cell_type": "code",
   "execution_count": null,
   "metadata": {},
   "outputs": [],
   "source": [
    "daytype_cats = {'Weekend': 0,  'Weekday': 1}\n",
    "df['daytype_cat'] = df['daytype'].map(daytype_cats)"
   ]
  },
  {
   "cell_type": "markdown",
   "metadata": {},
   "source": [
    "### Zugtypen"
   ]
  },
  {
   "cell_type": "code",
   "execution_count": null,
   "metadata": {},
   "outputs": [],
   "source": [
    "df['type_cat'] = pd.Categorical(df['type'], categories=df['type'].unique()).codes\n",
    "type_df = df[['type', 'type_cat']]\n",
    "type_df = type_df.drop_duplicates()\n",
    "type_df.count()"
   ]
  },
  {
   "cell_type": "code",
   "execution_count": null,
   "metadata": {},
   "outputs": [],
   "source": [
    "type_cats = {x['type']: x['type_cat'] for x in type_df.to_dict('records')}\n",
    "type_cats"
   ]
  },
  {
   "cell_type": "markdown",
   "metadata": {},
   "source": [
    "### Ferien und Feiertage\n",
    "\n",
    "Hier wird wieder mit einem vorbereitetem Dictionary gearbeite (`ferien_cats` und `feiertag_cats`)"
   ]
  },
  {
   "cell_type": "code",
   "execution_count": null,
   "metadata": {},
   "outputs": [],
   "source": [
    "#df['ferien' ].value_counts()"
   ]
  },
  {
   "cell_type": "code",
   "execution_count": null,
   "metadata": {},
   "outputs": [],
   "source": [
    "#df['feiertag'].value_counts()"
   ]
  },
  {
   "cell_type": "code",
   "execution_count": null,
   "metadata": {},
   "outputs": [],
   "source": [
    "# ferien_cats = {'keine_ferien':0, 'start':1, 'mitte': 2, 'ende': 3}\n",
    "# feiertag_cats = {'kein_feiertag': 0, 'feiertag': 1}\n",
    "# df['feiertag_cat'] = df['feiertag'].map(feiertag_cats)\n",
    "# df['ferien_cat'] = df['ferien'].map(ferien_cats)"
   ]
  },
  {
   "cell_type": "markdown",
   "metadata": {},
   "source": [
    "## Abspeichern des neuen DataFrames als CSV Datei"
   ]
  },
  {
   "cell_type": "code",
   "execution_count": null,
   "metadata": {},
   "outputs": [],
   "source": [
    "df.head(100)"
   ]
  },
  {
   "cell_type": "code",
   "execution_count": null,
   "metadata": {},
   "outputs": [],
   "source": [
    "df.to_csv('combinedData/alltrains.csv',compression='zip')"
   ]
  },
  {
   "cell_type": "markdown",
   "metadata": {},
   "source": [
    "## Abspeichern der Übersetzungs Dictionaries als eine Json Datei\n",
    "\n",
    "Beim exportieren muss `ensure_ascii=False` gesetzt werden, da die Keys u.U. UTF8 Werte enthalten können!"
   ]
  },
  {
   "cell_type": "code",
   "execution_count": null,
   "metadata": {},
   "outputs": [],
   "source": [
    "cats = [x for x in globals().keys() if x.endswith('cats') and x != 'cats']\n",
    "cats"
   ]
  },
  {
   "cell_type": "code",
   "execution_count": null,
   "metadata": {},
   "outputs": [],
   "source": [
    "cats_json = {x: eval(x) for x in cats}\n",
    "cats_json"
   ]
  },
  {
   "cell_type": "code",
   "execution_count": null,
   "metadata": {},
   "outputs": [],
   "source": [
    "import json \n",
    "with open('newData/conversion_dicts.json', 'w') as jsonfile:\n",
    "    json.dump(cats_json, jsonfile, ensure_ascii=False)\n",
    "\n",
    "!head newData/conversion_dicts.json"
   ]
  }
 ],
 "metadata": {
  "kernelspec": {
   "display_name": "Python 3",
   "language": "python",
   "name": "python3"
  },
  "language_info": {
   "codemirror_mode": {
    "name": "ipython",
    "version": 3
   },
   "file_extension": ".py",
   "mimetype": "text/x-python",
   "name": "python",
   "nbconvert_exporter": "python",
   "pygments_lexer": "ipython3",
   "version": "3.6.9"
  }
 },
 "nbformat": 4,
 "nbformat_minor": 2
}
