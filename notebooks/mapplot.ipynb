{
 "nbformat": 4,
 "nbformat_minor": 2,
 "metadata": {
  "language_info": {
   "name": "python",
   "codemirror_mode": {
    "name": "ipython",
    "version": 3
   },
   "version": "3.7.6-final"
  },
  "orig_nbformat": 2,
  "file_extension": ".py",
  "mimetype": "text/x-python",
  "name": "python",
  "npconvert_exporter": "python",
  "pygments_lexer": "ipython3",
  "version": 3,
  "kernelspec": {
   "name": "python37664bitbc34dfe4857b4389ab4dceed4ab98cc1",
   "display_name": "Python 3.7.6 64-bit"
  }
 },
 "cells": [
  {
   "cell_type": "code",
   "execution_count": null,
   "metadata": {},
   "outputs": [],
   "source": [
    "import pandas as pd\n",
    "import matplotlib.pyplot as plt\n",
    "from mpl_toolkits.basemap import Basemap\n",
    "# installed from https://www.lfd.uci.edu/~gohlke/pythonlibs/\n",
    "from progress.bar import Bar\n",
    "import shapefile as shp  # Requires the pyshp package"
   ]
  },
  {
   "cell_type": "code",
   "execution_count": null,
   "metadata": {},
   "outputs": [],
   "source": [
    "station_df = pd.read_csv('../stations.csv', index_col=False, engine='c')\n",
    "streckennetz = pd.read_csv('../data/strecken.csv', index_col=False, engine='c', sep=';')"
   ]
  },
  {
   "cell_type": "code",
   "execution_count": null,
   "metadata": {},
   "outputs": [],
   "source": [
    "sf = shp.Reader('strecken_polyline.shp', encoding='latin-1')"
   ]
  },
  {
   "cell_type": "code",
   "execution_count": null,
   "metadata": {},
   "outputs": [],
   "source": [
    "# These coordinates form the bounding box of Germany\n",
    "left = 5.67\n",
    "right = 15.64\n",
    "bot = 47.06\n",
    "top = 55.06\n",
    "plt.figure(figsize=(180/2,100/2))\n",
    "m = Basemap(llcrnrlon=left,llcrnrlat=bot,urcrnrlon=right,urcrnrlat=top,\n",
    "             resolution='i', projection='tmerc', lat_0 = 51, lon_0 = 10)\n",
    "m.drawcoastlines(linewidth=0.72, color='black')\n",
    "m.drawcountries(zorder=0, color='black')\n",
    "# m.drawrivers(color='blue')\n",
    "# fig, act = plt.subplots(figsize=(20, 20))\n",
    "\n",
    "# plt.figure(figsize=(180/2,100/2))\n",
    "# bar = Bar('Prog: ', max=len(sf.shapeRecords()))\n",
    "for shape in sf.shapeRecords():\n",
    "    x, y = m([i[0] for i in shape.shape.points[:]], [i[1] for i in shape.shape.points[:]])\n",
    "    # x = [i[0] for i in shape.shape.points[:]]\n",
    "    # y = [i[1] for i in shape.shape.points[:]]\n",
    "    m.plot(x,y, color='green')\n",
    "# plt.show()\n",
    "xpt,ypt = m(station_df['lon'].to_numpy(), station_df['lat'].to_numpy())\n",
    "m.scatter(x=xpt, y=ypt, marker='.')\n",
    "plt.savefig('streckennetz.png')"
   ]
  },
  {
   "cell_type": "code",
   "execution_count": null,
   "metadata": {},
   "outputs": [],
   "source": [
    "# These coordinates form the bounding box of Germany\n",
    "left = 5.67\n",
    "right = 15.64\n",
    "bot = 47.06\n",
    "top = 55.06\n",
    "plt.figure(figsize=(180/2,100/2))\n",
    "m = Basemap(llcrnrlon=left,llcrnrlat=bot,urcrnrlon=right,urcrnrlat=top,\n",
    "             resolution='i', projection='tmerc', lat_0 = 51, lon_0 = 10)\n",
    "m.drawcoastlines(linewidth=0.72, color='black')\n",
    "m.drawcountries(zorder=0, color='black')\n",
    "m.drawrivers(color='blue')\n",
    "# fig, act = plt.subplots(figsize=(20, 20))\n",
    "xpt,ypt = m(station_df['lon'].to_numpy(), station_df['lat'].to_numpy())\n",
    "m.scatter(x=xpt, y=ypt, marker='o')\n",
    "plt.savefig('bhfs.png')"
   ]
  },
  {
   "cell_type": "code",
   "execution_count": null,
   "metadata": {},
   "outputs": [],
   "source": [
    "streckennetz.at[0, 'STRNAME'].split(' - ')"
   ]
  },
  {
   "cell_type": "code",
   "execution_count": null,
   "metadata": {},
   "outputs": [],
   "source": [
    "import numpy as np; np.random.seed(42)\n",
    "import pandas as pd\n",
    "from mpl_toolkits.basemap import Basemap\n",
    "import matplotlib.pyplot as plt\n",
    "from matplotlib.collections import LineCollection\n",
    "\n",
    "\n",
    "df = pd.DataFrame({\"lon1\" : np.random.randint(-15,30,10),\n",
    "                   \"lat1\" : np.random.randint(33,66,10),\n",
    "                   \"lon2\" : np.random.randint(-15,30,10),\n",
    "                   \"lat2\" : np.random.randint(33,66,10)})\n",
    "\n",
    "m = Basemap(llcrnrlon=-12,llcrnrlat=30,urcrnrlon=50,urcrnrlat=69.,\n",
    "             resolution='i', projection='tmerc', lat_0 = 48.9, lon_0 = 15.3)\n",
    "\n",
    "m.drawcoastlines(linewidth=0.72, color='gray')\n",
    "m.drawcountries(zorder=0, color='gray')\n",
    "\n",
    "\n",
    "lon1, lat1 = m(df.lon1.values, df.lat1.values)\n",
    "lon2, lat2 = m(df.lon2.values, df.lat2.values)\n",
    "\n",
    "pts = np.c_[lon1, lat1, lon2, lat2].reshape(len(lon1), 2, 2)\n",
    "plt.gca().add_collection(LineCollection(pts, color=\"crimson\", label=\"Lines\"))\n",
    "\n",
    "m.plot(lon1, lat1, marker=\"o\", ls=\"\", label=\"Start\")\n",
    "m.plot(lon2, lat2, marker=\"o\", ls=\"\", label=\"Fin\")\n",
    "\n",
    "plt.legend()\n",
    "plt.show()"
   ]
  },
  {
   "cell_type": "code",
   "execution_count": null,
   "metadata": {},
   "outputs": [],
   "source": []
  }
 ]
}