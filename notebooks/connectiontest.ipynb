{
 "cells": [
  {
   "cell_type": "code",
   "execution_count": null,
   "metadata": {},
   "outputs": [],
   "source": [
    "import requests\n",
    "from datetime import datetime, timedelta\n",
    "from pytz import timezone\n",
    "import time\n",
    "import json\n",
    "import sys"
   ]
  },
  {
   "cell_type": "code",
   "execution_count": null,
   "metadata": {},
   "outputs": [],
   "source": [
    "\n",
    "# the mock-0.3.1 dir contains testcase.py, testutils.py & mock.py\n",
    "sys.path.append('../server')\n",
    "\n",
    "from predict_data2 import get_pred_data\n",
    "from random_forest import predictor\n",
    "\n",
    "rfp = predictor()\n",
    "\n",
    "if True: #https://stackoverflow.com/questions/5980042/how-to-implement-the-verbose-or-v-option-into-a-script\n",
    "    def verboseprint(*args):\n",
    "        # Print each argument separately so caller doesn't need to\n",
    "        # stuff everything to be printed into a single string\n",
    "        print(''.join(map(str, args)))\n",
    "else:\n",
    "    warnings.filterwarnings(\"ignore\") #we want to surpress warings\n",
    "    verboseprint = lambda *a: None"
   ]
  },
  {
   "cell_type": "code",
   "execution_count": null,
   "metadata": {},
   "outputs": [],
   "source": [
    "def toLocal(dt):\n",
    "    ''' Setzt automatich in die Zeitzone in unsere und convertiert die Zeit'''\n",
    "    return dt.astimezone(timezone('Europe/Berlin'))\n",
    "def toUtc(dt):\n",
    "    ''' Setzt automatich in die Zeitzone'''\n",
    "    return dt.astimezone(timezone('UTC'))\n",
    "def setToUTCTime(dt, diff):\n",
    "    ''' Setzt die Zeitzone des Datetime objects auf utc, diff ist die differenz zu utc'''\n",
    "    #also um bsp Berlin ist die dif 1 weil wir in GMT+1 leben und somit um auf ut zu kommen müssen -1 h machen\n",
    "    return dt.replace(tzinfo=timezone('UTC')) - timedelta(hours=diff)\n",
    "def fromUnix(unix):\n",
    "    ''' Remove millisecons (/1000) add one hour (+3600) and set timezone'''\n",
    "    return datetime.utcfromtimestamp(float(unix)/1000 + 3600).replace(tzinfo=timezone('Europe/Berlin'))\n",
    "\n",
    "def getStation(station):\n",
    "    ''' Gibt die ersten 24 stastionen zurück'''\n",
    "    url = \"https://marudor.de/api/hafas/v1/station/\" + station + \"?profile=db\"\n",
    "    r = requests.get(url)\n",
    "    if r.status_code == 200:\n",
    "        return r.json()\n",
    "    else:\n",
    "        return False\n",
    "\n",
    "def getCon(start, destination, time):\n",
    "    #marudor will unix zeit in UTC zeit aber .timestamp macht des automatich wenn die Zeitzone gesetzt ist\n",
    "    #json={\"start\":getStation(start)[0]['id'],\"destination\":getStation(destination)[0]['id'],\"time\":time.timestamp()*1000,\"maxChanges\":\"-1\",\"transferTime\":\"0\",\"hafasProfile\":\"db\"}\n",
    "    json = {\"start\":\"008000141\",\"destination\":\"008000207\",\"time\":1572961200000,\"maxChanges\":\"-1\",\"transferTime\":\"0\",\"hafasProfile\":\"db\"}\n",
    "    print(json)\n",
    "    r = requests.post('https://marudor.de/api/hafas/v1/route?profile=db', json=json)\n",
    "    print(r.status_code)\n",
    "    return r.text\n",
    "\n",
    "def cleanCon(connection):\n",
    "    for i in range(len(connection)):\n",
    "        connection[i]['segments'].append({ 'segmentTypes': connection[i]['segmentTypes']})\n",
    "        print(connection[i]['segments'])\n",
    "        connection[i] = connection[i]['segments']\n",
    "        for n in range(len(connection[i])):\n",
    "            if 'wings' in connection[i][n]:\n",
    "                #print(\"deleting wings\")\n",
    "                del connection[i][n]['wings']\n",
    "            if 'messages' in connection[i][n]:\n",
    "                #print(\"deleting messages\")\n",
    "                del connection[i][n]['messages']\n",
    "            if 'jid' in connection[i][n]:\n",
    "                #print(\"deleting jid\")\n",
    "                del connection[i][n]['jid']\n",
    "            if 'type' in connection[i][n]:\n",
    "                #print(\"deleting type\")\n",
    "                del connection[i][n]['type']\n",
    "            if 'stops' in connection[i][n]:\n",
    "                #print(\"deleting stops\")\n",
    "                del connection[i][n]['stops']\n",
    "            if 'finalDestination' in connection[i][n]:\n",
    "                #print(\"deleting finalDestination\")\n",
    "                del connection[i][n]['finalDestination']\n",
    "    return connection"
   ]
  },
  {
   "cell_type": "code",
   "execution_count": null,
   "metadata": {},
   "outputs": [],
   "source": [
    "#nur nen modell, das Zeigt auch wenn wir in unserer Zeitzone sind mach des kein unterschied\n",
    "connectionb = getCon(\"Tübingen Hbf\", \"Köln Hbf\", datetime(2019, 11, 5, 14, 41, 43, 558646, tzinfo=timezone('UTC')))"
   ]
  },
  {
   "cell_type": "code",
   "execution_count": null,
   "metadata": {},
   "outputs": [],
   "source": [
    "def analysis(connection):\n",
    "    #verboseprint('Mache Analyse...')\n",
    "    #score = 0\n",
    "    total_score = 0\n",
    "    #change between scheduled and predicted time\n",
    "    time = 'scheduledTime' # 'time'\n",
    "    \n",
    "    #there will always be one segment than connections\n",
    "    for i in range(len(connection)-1):\n",
    "        #I think we can delet this?\n",
    "        if connection[i] == '':\n",
    "            verboseprint(\"No data for connection = \"+ str(i))\n",
    "            continue\n",
    "\n",
    "        data1 = get_pred_data(connection[i]['segmentDestination']['title'], connection[i]['train']['name'], fromUnix(connection[i]['arrival'][time]))\n",
    "        data2 = get_pred_data(connection[i+1]['segmentStart']['title'], connection[i+1]['train']['name'], fromUnix(connection[i+1]['departure'][time]))\n",
    "        transtime = ((fromUnix(connection[i+1]['departure'][time]) - fromUnix(connection[i]['arrival'][time])).seconds//60)%60 #we just want minutes\n",
    "        print(transtime)\n",
    "        print(data1)\n",
    "        print(data2)\n",
    "        connection[i]['con_score'], connection[i]['adelay5'], connection[i+1]['ddelay5'] = rfp.predict_con(data1, data2, transtime)\n",
    "\n",
    "        verboseprint(\"Score for connection[\", connection[i]['train']['name'], ' to ', connection[i+1]['train']['name'], ' in ', connection[i]['segmentDestination']['title'],\"] = \" ,connection[i]['con_score'])\n",
    "        if (total_score == 0):\n",
    "            total_score = connection[i]['con_score']\n",
    "        else:\n",
    "            total_score *= connection[i]['con_score']\n",
    "\n",
    "    #score = total_score / (len(connection) - 1)\n",
    "    verboseprint('\\n RETURNING SCORE:' + str(total_score))\n",
    "    \n",
    "    connection.append({'total_score': int(total_score * 100)})\n",
    "    return connection"
   ]
  },
  {
   "cell_type": "code",
   "execution_count": null,
   "metadata": {},
   "outputs": [],
   "source": [
    "connection = json.loads(connectionb)[\"routes\"]\n",
    "connection = cleanCon(connection)\n",
    "#connection[0]"
   ]
  },
  {
   "cell_type": "code",
   "execution_count": null,
   "metadata": {},
   "outputs": [],
   "source": [
    "print(connection[0])\n",
    "analysis(connection[0])"
   ]
  },
  {
   "cell_type": "code",
   "execution_count": null,
   "metadata": {},
   "outputs": [],
   "source": [
    "test = connection[0]['segments']\n",
    "test"
   ]
  },
  {
   "cell_type": "code",
   "execution_count": null,
   "metadata": {},
   "outputs": [],
   "source": [
    "(connection[0]['segments'].append({ 'segmentTypes': connection[0]['segmentTypes']}))"
   ]
  },
  {
   "cell_type": "code",
   "execution_count": null,
   "metadata": {},
   "outputs": [],
   "source": [
    "connection[0]"
   ]
  }
 ],
 "metadata": {
  "kernelspec": {
   "display_name": "Python 3",
   "language": "python",
   "name": "python3"
  },
  "language_info": {
   "codemirror_mode": {
    "name": "ipython",
    "version": 3
   },
   "file_extension": ".py",
   "mimetype": "text/x-python",
   "name": "python",
   "nbconvert_exporter": "python",
   "pygments_lexer": "ipython3",
   "version": "3.7.4"
  }
 },
 "nbformat": 4,
 "nbformat_minor": 2
}