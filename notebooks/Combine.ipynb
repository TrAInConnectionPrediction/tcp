{
 "cells": [
  {
   "cell_type": "code",
   "execution_count": null,
   "metadata": {},
   "outputs": [],
   "source": [
    "import pandas as pd\n",
    "import glob\n",
    "from os.path import basename\n",
    "import matplotlib.pyplot as plt\n",
    "import os\n",
    "from progress.bar import Bar\n",
    "from datetime import datetime"
   ]
  },
  {
   "cell_type": "code",
   "execution_count": null,
   "metadata": {},
   "outputs": [],
   "source": [
    "path = r'../data/data2019/' # use your path\n",
    "all_files = glob.glob(path + \"/*.csv\")\n",
    "\n",
    "li = []\n",
    "bar = Bar('processing', max=len(all_files))\n",
    "for filename in all_files:\n",
    "    if not basename(filename):\n",
    "        continue\n",
    "    df = pd.read_csv(filename, index_col=None, header=0)    \n",
    "    li.append(df)\n",
    "    bar.next()\n",
    "\n",
    "frame = pd.concat(li, axis=0, ignore_index=True, sort=False)"
   ]
  },
  {
   "cell_type": "code",
   "execution_count": null,
   "metadata": {},
   "outputs": [],
   "source": [
    "frame = pd.read_csv('../data/combinedData/alltrains2019.csv',encoding='UTF-8',compression='zip')"
   ]
  },
  {
   "cell_type": "code",
   "execution_count": null,
   "metadata": {},
   "outputs": [],
   "source": [
    "df = pd.read_csv('../data/datum.csv',encoding='UTF-8')"
   ]
  },
  {
   "cell_type": "code",
   "execution_count": null,
   "metadata": {},
   "outputs": [],
   "source": [
    "var = 'station_number'\n",
    "top10 = {var : frame[var].unique()}\n",
    "#top10 = {'bhf' :[\"Hannover Hbf\",\"Frankfurt(Main)Hbf\", \"München Hbf\", \"Hamburg Hbf\", \"Köln Hbf\", \"Nürnberg Hbf\", \"Mannheim Hbf\", \"Stuttgart Hbf\", \"Düsseldorf Hbf\", \"Frankfurt(M) Flughafen Fernbf\"]}\n",
    "df = pd.DataFrame(top10)\n",
    "#df = df.sort_values('halte',ascending=False).reset_index(drop=True).loc[:9,:].sort_values('apercversp').reset_index(drop=True).drop(\"Unnamed: 0\", axis=1)\n",
    "df = df.drop(1, axis=0).reset_index(drop=True)\n",
    "df"
   ]
  },
  {
   "cell_type": "code",
   "execution_count": null,
   "metadata": {},
   "outputs": [],
   "source": [
    "apercversp = []\n",
    "dpercversp = []\n",
    "halte = []\n",
    "avgadelay = []\n",
    "avgddelay = []\n",
    "#maxd = []\n",
    "for bhf in df[var]:\n",
    "    #print(bhf)\n",
    "    bhfframe = frame[frame[var] == bhf]\n",
    "    #print(len(bhfframe))\n",
    "    #if not len(bhfframe):\n",
    "    #    continue\n",
    "    halte.append(bhfframe['isadelay'].count())\n",
    "    try:\n",
    "        apercversp.append(1 - round(bhfframe['isadelay'].value_counts()[0] / bhfframe['isadelay'].count(),2))\n",
    "        dpercversp.append(1 - round(bhfframe['isddelay'].value_counts()[0] / bhfframe['isddelay'].count(),2))\n",
    "    except:\n",
    "        apercversp.append(round(bhfframe['isadelay'].value_counts()[1] / bhfframe['isadelay'].count(),2))\n",
    "        dpercversp.append(round(bhfframe['isddelay'].value_counts()[1] / bhfframe['isddelay'].count(),2))\n",
    "    avgadelay.append(round(bhfframe['adelay'].sum()/len(bhfframe['adelay']),2) )\n",
    "    avgddelay.append(round(bhfframe['ddelay'].sum()/len(bhfframe['ddelay']),2) )\n",
    "    #maxd.append(bhfframe['adelay'].max())"
   ]
  },
  {
   "cell_type": "code",
   "execution_count": null,
   "metadata": {},
   "outputs": [],
   "source": [
    "df['halte'] = halte\n",
    "df['apercversp'] = apercversp\n",
    "df['dpercversp'] = dpercversp\n",
    "df['percdiff'] = round(df['apercversp'] - df['dpercversp'],2)\n",
    "df['avgadelay'] = avgadelay\n",
    "df['avgddelay'] = avgddelay\n",
    "df['avgdiff'] = round(df['avgadelay'] - df['avgddelay'],2)\n",
    "#df['maxd'] = maxd\n",
    "print(df.head())"
   ]
  },
  {
   "cell_type": "code",
   "execution_count": null,
   "metadata": {},
   "outputs": [],
   "source": [
    "df =df.reset_index(drop=True)"
   ]
  },
  {
   "cell_type": "code",
   "execution_count": null,
   "metadata": {},
   "outputs": [],
   "source": [
    "df[df['avgadelay'] == df['avgadelay'].max()]"
   ]
  },
  {
   "cell_type": "code",
   "execution_count": null,
   "metadata": {},
   "outputs": [],
   "source": [
    "%matplotlib notebook\n",
    "import matplotlib.dates as mdates\n",
    "import datetime as dt\n",
    "#df['date'] = [dt.datetime.strptime(d,'%Y-%m-%d').date() for d in df['date']]\n",
    "df = df.sort_values(by=var)\n",
    "# Set the locator\n",
    "#locator = mdates.MonthLocator()  # every month\n",
    "# Specify the format - %b gives us Jan, Feb...\n",
    "#fmt = mdates.DateFormatter('%b')\n",
    "fig = matplotlib.pyplot.gcf()\n",
    "fig.set_size_inches(18.5, 6)\n",
    "\n",
    "plt.plot(df[var][:23],df['avgadelay'][:23])\n",
    "#plt.yscale(\"log\")\n",
    "plt.ylabel('durchschn. Verspätung in Minuten')\n",
    "plt.xlabel('Anzahl der absolvierten Halte')\n",
    "X = plt.gca().xaxis\n",
    "#X.set_major_locator(locator)\n",
    "# Specify formatter\n",
    "#X.set_major_formatter(fmt)\n",
    "plt.show()\n",
    "\n",
    "#plt.plot(range(len(df['apercversp'])),df['avgddelay'], 'g')\n",
    "#plt.scatter(range(len(df['apercversp'])),df['avgadelay'],s= df['avgdiff']*100)\n",
    "#plt.xticks(range(len(df['apercversp'][:30])), df['bhf'][:30])\n",
    "#plt.show()"
   ]
  },
  {
   "cell_type": "code",
   "execution_count": null,
   "metadata": {},
   "outputs": [],
   "source": [
    "fig.savefig('delayoverstrecke.png', dpi=100)"
   ]
  },
  {
   "cell_type": "code",
   "execution_count": null,
   "metadata": {},
   "outputs": [],
   "source": [
    "df.to_csv('../data/nohalt.csv', index=True, encoding='UTF-8')"
   ]
  },
  {
   "cell_type": "code",
   "execution_count": null,
   "metadata": {
    "collapsed": true
   },
   "outputs": [],
   "source": [
    "df = pd.read_csv('../data/wetterdaten/bahnhof_to_weather_location.csv', index_col=None)\n",
    "unknown = []\n",
    "df = df.set_index('bhf')\n",
    "for stadt in frame['bhf'].unique():\n",
    "    try:\n",
    "        df.loc[stadt] \n",
    "    except:\n",
    "        unknown.append(stadt)"
   ]
  },
  {
   "cell_type": "code",
   "execution_count": null,
   "metadata": {},
   "outputs": [],
   "source": [
    "dataframe = pd.DataFrame(unknown)\n",
    "unknown"
   ]
  },
  {
   "cell_type": "code",
   "execution_count": null,
   "metadata": {},
   "outputs": [],
   "source": [
    "frame.to_csv('../data/combinedData/alltrains2019.csv', index=False, encoding='UTF-8',compression='zip')"
   ]
  },
  {
   "cell_type": "code",
   "execution_count": null,
   "metadata": {
    "collapsed": true
   },
   "outputs": [],
   "source": [
    "df = pd.read_excel('wetterdaten/lastdata.xlsx')\n",
    "data = pd.read_csv('wetterdaten/bahnhof_to_weather_location.csv')"
   ]
  },
  {
   "cell_type": "code",
   "execution_count": null,
   "metadata": {
    "collapsed": true
   },
   "outputs": [],
   "source": [
    "li = []\n",
    "li.append(df)\n",
    "li.append(data)"
   ]
  },
  {
   "cell_type": "code",
   "execution_count": null,
   "metadata": {
    "collapsed": true
   },
   "outputs": [],
   "source": [
    "frame = pd.concat(li, axis=0, ignore_index=True, sort=False)"
   ]
  },
  {
   "cell_type": "code",
   "execution_count": null,
   "metadata": {
    "collapsed": true
   },
   "outputs": [],
   "source": [
    "frame = frame.iloc[frame.bhf.str.lower().argsort()]"
   ]
  },
  {
   "cell_type": "code",
   "execution_count": null,
   "metadata": {
    "collapsed": true
   },
   "outputs": [],
   "source": [
    "frame.to_csv('wetterdaten/bahnhof_to_weather_location.csv', index=False, encoding='UTF-8')"
   ]
  },
  {
   "cell_type": "code",
   "execution_count": null,
   "metadata": {},
   "outputs": [],
   "source": [
    "frame.head()"
   ]
  }
 ],
 "metadata": {
  "kernelspec": {
   "display_name": "Python 3",
   "language": "python",
   "name": "python3"
  },
  "language_info": {
   "codemirror_mode": {
    "name": "ipython",
    "version": 3
   },
   "file_extension": ".py",
   "mimetype": "text/x-python",
   "name": "python",
   "nbconvert_exporter": "python",
   "pygments_lexer": "ipython3",
   "version": "3.7.6"
  }
 },
 "nbformat": 4,
 "nbformat_minor": 2
}