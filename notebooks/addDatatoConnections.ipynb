{
 "cells": [
  {
   "cell_type": "code",
   "execution_count": null,
   "metadata": {},
   "outputs": [],
   "source": [
    "import pandas as pd\n",
    "from datetime import datetime\n",
    "from progress.bar import Bar"
   ]
  },
  {
   "cell_type": "code",
   "execution_count": null,
   "metadata": {},
   "outputs": [],
   "source": [
    "def get_pred_data(bhf, zugname):\n",
    "    zugname = zugname.replace('.csv','').replace(' ','_')#to make it copatiple with more inputs\n",
    "\n",
    "    fahrplan_path = '../data/Streckendaten/' + zugname + '.csv'#\n",
    "    try:\n",
    "        fahrplan = pd.read_csv(fahrplan_path, sep=\",\", index_col=False, engine='c')\n",
    "    except:\n",
    "        print(\"\\x1b[1;31m No Timetable for \"+ zugname + \"\\x1b[0m\")\n",
    "        #if we don't have a timetable of the train, we can't get the data\n",
    "        return False\n",
    "    fahrplan = fahrplan.set_index('bhf')\n",
    "    if not bhf in fahrplan.index:\n",
    "        print(\"\\x1b[1;31m Bhf not in Timetable \"+ bhf + \"\\x1b[0m\")\n",
    "        #if we don't have the bhf in the timetable, we can't get the data\n",
    "        return False\n",
    "\n",
    "    data = {'track_length_since_start': 0,\n",
    "            'time_since_first_station': 0,\n",
    "            'station_number': 0,\n",
    "            'lat': 0,\n",
    "            'lon': 0,\n",
    "            'track_length': 0,\n",
    "            'stay_time': 0,\n",
    "            'time_since_last_station': 0}\n",
    "\n",
    "    data['track_length_since_start'] = fahrplan.at[bhf,'track_length_since_start']\n",
    "    data['time_since_last_station'] = fahrplan.at[bhf,'time_since_last_station']\n",
    "    data['station_number'] = fahrplan.at[bhf,'station_number']\n",
    "    data['lon'] = fahrplan.at[bhf,'lon']\n",
    "    data['lat'] = fahrplan.at[bhf,'lat']\n",
    "    \n",
    "    data['track_length'] = fahrplan.at[bhf,'track_length']\n",
    "    data['stay_time'] = fahrplan.at[bhf,'stay_time']\n",
    "\n",
    "    try:#sometimes data['stay_time'] is kind of an array.\n",
    "        #I don't know why, but we catch it anyway.\n",
    "        if pd.isna(data['stay_time']):\n",
    "            data['stay_time'] = 0\n",
    "    except ValueError:\n",
    "        return False\n",
    "    data['time_since_first_station'] = fahrplan.at[bhf,'time_since_first_station']\n",
    "    \n",
    "    return data"
   ]
  },
  {
   "cell_type": "code",
   "execution_count": null,
   "metadata": {},
   "outputs": [],
   "source": [
    "path =  '../data/connecting_trains.csv'\n",
    "    \n",
    "df = pd.read_csv(path, index_col=False, compression='zip')\n",
    "\n",
    "df = df.dropna()"
   ]
  },
  {
   "cell_type": "code",
   "execution_count": null,
   "metadata": {},
   "outputs": [],
   "source": [
    "for i in range(len(df)):\n",
    "    if (i % 100000) == 0:\n",
    "        print('.', end='')\n",
    "    aninfo = get_pred_data(df.at[i, 'bhf'], df.at[i, 'antrain'])\n",
    "    abinfo = get_pred_data(df.at[i, 'bhf'], df.at[i, 'abtrain'])\n",
    "    df.at[i, 'an_track_length_since_start'] = aninfo['track_length_since_start']\n",
    "    df.at[i, 'an_time_since_first_station'] = aninfo['time_since_first_station']\n",
    "    df.at[i, 'an_lat'] = aninfo['lat']\n",
    "    df.at[i, 'an_lon'] = aninfo['lon']\n",
    "    df.at[i, 'an_track_length'] = aninfo['track_length']\n",
    "    df.at[i, 'an_stay_time'] = aninfo['stay_time']\n",
    "    df.at[i, 'an_time_since_last_station'] = aninfo['time_since_last_station']\n",
    "    \n",
    "    df.at[i, 'ab_track_length_since_start'] = aninfo['track_length_since_start']\n",
    "    df.at[i, 'ab_time_since_first_station'] = aninfo['time_since_first_station']\n",
    "    df.at[i, 'ab_lat'] = aninfo['lat']\n",
    "    df.at[i, 'ab_lon'] = aninfo['lon']\n",
    "    df.at[i, 'ab_track_length'] = aninfo['track_length']\n",
    "    df.at[i, 'ab_stay_time'] = aninfo['stay_time']\n",
    "    df.at[i, 'ab_time_since_last_station'] = aninfo['time_since_last_station']"
   ]
  },
  {
   "cell_type": "code",
   "execution_count": null,
   "metadata": {},
   "outputs": [],
   "source": [
    "df.dropna()"
   ]
  },
  {
   "cell_type": "code",
   "execution_count": null,
   "metadata": {},
   "outputs": [],
   "source": [
    "df.to_csv('../data/connecting_trains_full.csv', index=False, compression='zip')"
   ]
  }
 ],
 "metadata": {
  "kernelspec": {
   "display_name": "Python 3",
   "language": "python",
   "name": "python3"
  },
  "language_info": {
   "codemirror_mode": {
    "name": "ipython",
    "version": 3
   },
   "file_extension": ".py",
   "mimetype": "text/x-python",
   "name": "python",
   "nbconvert_exporter": "python",
   "pygments_lexer": "ipython3",
   "version": "3.7.4"
  }
 },
 "nbformat": 4,
 "nbformat_minor": 2
}