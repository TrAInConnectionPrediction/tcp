{
 "cells": [
  {
   "cell_type": "markdown",
   "metadata": {},
   "source": [
    "### Links zu den Daten\n",
    "[Strecke Link](https://geovdbn.deutschebahn.com/pgv-map/geoserver.action?LAYERS=ISR%3AISR_V_GEO_TEN_KLASSIFIZIERUNG&TRANSPARENT=TRUE&FORMAT=kml&VERSION=1.1.1&TILED=false&USERDEFINEDSLD=&SERVICE=WMS&REQUEST=GetMap&VIEWPARAMS=ZEITSCHEIBE%3AUNDEFINED%3BLANG%3ADE%3BALG_DBNETZ_STRECKE%3Aalle%20Strecken%3BJAHR%3A2020&SRS=EPSG%3A31467&BBOX=3250000,5200000,3950000,6100000&WIDTH=700&HEIGHT=900)\n",
    "\n",
    "\n",
    "[Bahnhöfe Link](https://geovdbn.deutschebahn.com/pgv-map/geoserver.action?LAYERS=ISR%3AISR_V_GEO_BETRIEBSSTELLEN_PUNKT&TRANSPARENT=TRUE&FORMAT=kml&VERSION=1.1.1&TILED=false&USERDEFINEDSLD=&SERVICE=WMS&REQUEST=GetMap&VIEWPARAMS=ZEITSCHEIBE%3AUNDEFINED%3BLANG%3ADE%3BALG_DBNETZ_STRECKE%3Aalle%20Strecken%3BJAHR%3A2020&SRS=EPSG%3A31467&BBOX=3250000,5200000,3950000,6100000&WIDTH=700&HEIGHT=900)"
   ]
  },
  {
   "cell_type": "code",
   "execution_count": null,
   "metadata": {
    "tags": []
   },
   "outputs": [],
   "source": [
    "import os, sys\n",
    "sys.path.append(\"../\")\n",
    "sys.path.append('../rtd_crawler')\n",
    "import fiona\n",
    "import geopandas as gpd\n",
    "from geopandas.plotting import plot_linestring_collection\n",
    "import matplotlib.pyplot as plt\n",
    "import shapely\n",
    "from shapely.geometry import GeometryCollection, MultiPoint, Point\n",
    "from shapely.ops import nearest_points, linemerge\n",
    "import networkx as nx\n",
    "import random\n",
    "import lxml.etree as etree\n",
    "import re\n",
    "import pandas as pd\n",
    "from tqdm.auto import tqdm\n",
    "from tqdm import tqdm_notebook as tqdm_bar\n",
    "from helpers import StationPhillip, BetriebsstellenBill, NoLocationError\n",
    "import geopy.distance\n",
    "\n",
    "# enable KML support\n",
    "fiona.drvsupport.supported_drivers['kml'] = 'rw'\n",
    "fiona.drvsupport.supported_drivers['KML'] = 'rw'\n",
    "\n",
    "parser = etree.XMLParser(encoding='utf-8', collect_ids=False)\n",
    "stations = StationPhillip(notebook=True)\n",
    "betriebstellen = BetriebsstellenBill(notebook=True)\n",
    "\n",
    "\n",
    "tqdm.pandas(desc='progress')\n",
    "\n",
    "def parse_atr(atr):\n",
    "    atr_name = re.compile(r\"<span class=\\\"atr-name\\\">(.*?)<\\/span>\")\n",
    "    atr_value = re.compile(r\"<span class=\\\"atr-value\\\">(.*?)<\\/span>\")\n",
    "\n",
    "    atr_list = []\n",
    "    for i in range(len(atr)):\n",
    "        attributes = atr.iat[i]\n",
    "        names = [match[1] for match in atr_name.finditer(attributes)]\n",
    "        values = [match[1] for match in atr_value.finditer(attributes)]\n",
    "        atr_list.append(pd.Series(values, names))\n",
    "        \n",
    "    return pd.concat(atr_list, axis=1).T\n",
    "\n",
    "def tranform_geo(strecke):\n",
    "    \"\"\"\n",
    "    transform \n",
    "    ```python\n",
    "        GeometryCollection[\n",
    "            GeometryCollection[\n",
    "                ...\n",
    "            ]\n",
    "        ]\n",
    "    ```\n",
    "    to \n",
    "    ```python\n",
    "        Linestring[\n",
    "            ...\n",
    "        ]\n",
    "    ```\n",
    "    \"\"\"\n",
    "    for i in range(len(strecke)):\n",
    "        new_geo =  []\n",
    "        for g in strecke.iat[i, 2]:\n",
    "            if type(g) == shapely.geometry.collection.GeometryCollection:\n",
    "                for u in g:\n",
    "                    new_geo.append(u)\n",
    "            elif type(g) != shapely.geometry.point.Point:\n",
    "                new_geo.append(g)\n",
    "        strecke.iat[i, 2] = linemerge(GeometryCollection(new_geo))\n",
    "    return strecke\n",
    "\n",
    "def get_map_positions():\n",
    "    map_positions = {}\n",
    "    for i in range(len(strecke)):\n",
    "        if type(strecke.iat[i, 2]) == shapely.geometry.multilinestring.MultiLineString:\n",
    "            pointroute = MultiPoint(strecke.iat[i, 2][0].coords)\n",
    "        else:\n",
    "            try:\n",
    "                pointroute = MultiPoint(strecke.iat[i, 2].coords)\n",
    "            except NotImplementedError:\n",
    "                continue\n",
    "        map_positions[strecke_atr.loc[i, 'source']] = pointroute[0]\n",
    "        map_positions[strecke_atr.loc[i, 'target']] = pointroute[-1]\n",
    "    map_positions = {key: Point(value.x, value.y) for key, value in map_positions.items()}\n",
    "    return map_positions\n",
    "\n",
    "def get_strecke_atr():\n",
    "    strecke_atr = parse_atr(strecke.iloc[:, 1])\n",
    "    strecke_atr['source'] = ''\n",
    "    strecke_atr['target'] = ''\n",
    "    for i in range(len(strecke_atr)):\n",
    "        nodes = strecke_atr.at[i, 'ISR_STRECKE_VON_BIS'].split(' - ')\n",
    "        strecke_atr.at[i, 'source'] = nodes[0]\n",
    "        strecke_atr.at[i, 'target'] = nodes[1]\n",
    "    return strecke_atr\n",
    "\n",
    "def geo_map(row, destination, val, dest_unary, col=\"geometry\"):\n",
    "    try:\n",
    "        nearest_geom = nearest_points(row[col], dest_unary)\n",
    "        match_geom = destination.loc[destination.geometry == nearest_geom[1]]\n",
    "        match_value = list(match_geom.loc[:, ['geometry', 'bhf']].to_numpy()[0])\n",
    "        match_value.append(geopy.distance.distance(row[col].coords, match_value[0].coords).km)\n",
    "        match_value = pd.Series(data=match_value, index=['geom_match', 'geo_match_node', 'geomatch_dist'])\n",
    "        return match_value\n",
    "    except Exception as ex:\n",
    "        return pd.Series(data=[None, None, None], index=['geom_match', 'geo_match_node', 'geomatch_dist'])\n",
    "\n",
    "def name_replace(name):\n",
    "    name = name.lower()\n",
    "    name = name.replace(' ', '').replace('(', '').replace(')', '')\n",
    "    name = name.replace('.', '').replace('-', '').replace('_', '').replace('/', '')\n",
    "    return name\n",
    "\n",
    "import difflib\n",
    "def get_closest_match(row, names_to_match):\n",
    "    name = row['name']\n",
    "    name = name_replace(name)\n",
    "    match = difflib.get_close_matches(name, names_to_match, n=1, cutoff=0)[0]\n",
    "    score = difflib.SequenceMatcher(None, name, match).ratio()\n",
    "    index = names_to_match.index(match)\n",
    "    match = map_positions_gdf.at[index, 'bhf']\n",
    "\n",
    "    return pd.Series(data=[match, score], index=['string_match', 'string_match_score'])"
   ]
  },
  {
   "cell_type": "markdown",
   "metadata": {},
   "source": [
    "### Read kml files"
   ]
  },
  {
   "cell_type": "code",
   "execution_count": null,
   "metadata": {},
   "outputs": [],
   "source": [
    "strecke = gpd.read_file('../data/ISR-ISR_V_GEO_TEN_KLASSIFIZIERUNG.kml')\n",
    "bahnhöfe = gpd.read_file('../data/ISR-ISR_V_GEO_BETRIEBSSTELLEN_PUNKT.kml')"
   ]
  },
  {
   "cell_type": "code",
   "execution_count": null,
   "metadata": {},
   "outputs": [],
   "source": [
    "strecke = tranform_geo(strecke)\n",
    "strecke_atr = get_strecke_atr()\n",
    "strecke_atr['distance'] = strecke_atr.loc[:, 'ALG_LAENGE_ABSCHNITT'].str.replace(',', '.').astype('float')\n",
    "map_positions = get_map_positions()\n",
    "strecke_graph = nx.from_pandas_edgelist(strecke_atr, source='source', target='target')"
   ]
  },
  {
   "cell_type": "markdown",
   "metadata": {},
   "source": [
    "### Add mapping match columns"
   ]
  },
  {
   "cell_type": "code",
   "execution_count": null,
   "metadata": {},
   "outputs": [],
   "source": [
    "stations_gdf = stations.get_geopandas()"
   ]
  },
  {
   "cell_type": "code",
   "execution_count": null,
   "metadata": {},
   "outputs": [],
   "source": [
    "if not 'geom_match' in stations_gdf:\n",
    "    stations_gdf['geom_match'] = ''\n",
    "if not 'geo_match_node' in stations_gdf:\n",
    "    stations_gdf['geo_match_node'] = ''\n",
    "if not 'geomatch_dist' in stations_gdf:\n",
    "    stations_gdf['geomatch_dist'] = ''\n",
    "if not 'string_match' in stations_gdf:\n",
    "    stations_gdf['string_match'] = ''\n",
    "if not 'string_match_score' in stations_gdf:\n",
    "    stations_gdf['string_match_score'] = ''"
   ]
  },
  {
   "cell_type": "markdown",
   "metadata": {},
   "source": [
    "### Geomap stations"
   ]
  },
  {
   "cell_type": "code",
   "execution_count": null,
   "metadata": {
    "tags": []
   },
   "outputs": [],
   "source": [
    "dest_unary = map_positions_gdf[\"geometry\"].unary_union\n",
    "stations_gdf.loc[:, ['geom_match', 'geo_match_node', 'geomatch_dist']] = stations_gdf.loc[:, :].progress_apply(geo_map, destination=map_positions_gdf, dest_unary=dest_unary, val='geometry', axis=1)"
   ]
  },
  {
   "cell_type": "markdown",
   "metadata": {},
   "source": [
    "### String match (difflib) stations"
   ]
  },
  {
   "cell_type": "code",
   "execution_count": null,
   "metadata": {},
   "outputs": [],
   "source": [
    "map_positions_df = pd.DataFrame({'bhf':list(map_positions.keys()), 'location':list(map_positions.values())})\n",
    "map_positions_gdf = gpd.GeoDataFrame(map_positions_df, geometry=map_positions_df['location'])"
   ]
  },
  {
   "cell_type": "code",
   "execution_count": null,
   "metadata": {},
   "outputs": [],
   "source": [
    "map_names = map_positions_gdf['bhf'].to_list()\n",
    "for i in range(len(map_names)):\n",
    "    map_names[i] = name_replace(map_names[i])"
   ]
  },
  {
   "cell_type": "code",
   "execution_count": null,
   "metadata": {
    "tags": []
   },
   "outputs": [],
   "source": [
    "stations_gdf.loc[:, ['string_match', 'string_match_score']] = stations_gdf.loc[:, :].progress_apply(get_closest_match, names_to_match=map_names, axis=1)"
   ]
  },
  {
   "cell_type": "markdown",
   "metadata": {},
   "source": [
    "### Upload data to db"
   ]
  },
  {
   "cell_type": "code",
   "execution_count": null,
   "metadata": {},
   "outputs": [],
   "source": [
    "from config import db_database, db_password, db_server, db_username\n",
    "import sqlalchemy\n",
    "engine = sqlalchemy.create_engine('postgresql://'+ db_username +':' + db_password + '@' + db_server + '/' + db_database + '?sslmode=require')"
   ]
  },
  {
   "cell_type": "markdown",
   "metadata": {},
   "source": [
    "### Upload Streckennetz"
   ]
  },
  {
   "cell_type": "code",
   "execution_count": null,
   "metadata": {},
   "outputs": [],
   "source": [
    "strecke_atr.to_sql('streckennetz', if_exists='replace', method='multi', con=engine)"
   ]
  },
  {
   "cell_type": "markdown",
   "metadata": {},
   "source": [
    "### Upload Mappings"
   ]
  },
  {
   "cell_type": "code",
   "execution_count": null,
   "metadata": {},
   "outputs": [],
   "source": []
  },
  {
   "cell_type": "markdown",
   "metadata": {},
   "source": [
    "### Other Stuff"
   ]
  },
  {
   "cell_type": "code",
   "execution_count": null,
   "metadata": {},
   "outputs": [],
   "source": [
    "stations_gdf.to_csv('station_matches.csv')"
   ]
  },
  {
   "cell_type": "code",
   "execution_count": null,
   "metadata": {
    "tags": []
   },
   "outputs": [],
   "source": [
    "string_matches = []\n",
    "for name in tqdm_bar(stations):\n",
    "    string_matches.append(get_closest_match(name, map_names))"
   ]
  },
  {
   "cell_type": "code",
   "execution_count": null,
   "metadata": {},
   "outputs": [],
   "source": [
    "sta_pos = []\n",
    "for i in range(len(stations)):\n",
    "    sta_pos.append(Point(stations.station_df.at[i, 'lon'], stations.station_df.at[i, 'lat']))"
   ]
  },
  {
   "cell_type": "code",
   "execution_count": null,
   "metadata": {},
   "outputs": [],
   "source": [
    "sta_pos = MultiPoint(sta_pos)"
   ]
  },
  {
   "cell_type": "code",
   "execution_count": null,
   "metadata": {},
   "outputs": [],
   "source": [
    "map_positions_points = MultiPoint(list(map_positions.values()))"
   ]
  },
  {
   "cell_type": "code",
   "execution_count": null,
   "metadata": {},
   "outputs": [],
   "source": [
    "positions = {}\n",
    "for station in strecke_graph.nodes():\n",
    "    try:\n",
    "        positions[station] = betriebstellen.get_location(name=station)\n",
    "    except KeyError:\n",
    "        continue\n",
    "    except NoLocationError:\n",
    "        continue"
   ]
  },
  {
   "cell_type": "code",
   "execution_count": null,
   "metadata": {},
   "outputs": [],
   "source": [
    "pos = nx.spring_layout(strecke_graph, pos=map_positions, fixed=map_positions.keys(), k=0.001)"
   ]
  },
  {
   "cell_type": "code",
   "execution_count": null,
   "metadata": {},
   "outputs": [],
   "source": [
    "fig, ax = plt.subplots(figsize=(21*2, 24*2))\n",
    "ax = nx.draw(strecke_graph, pos=pos, ax=ax)\n",
    "bahnhöfe.plot(ax=ax)"
   ]
  },
  {
   "cell_type": "code",
   "execution_count": null,
   "metadata": {},
   "outputs": [],
   "source": [
    "number_of_colors = len(strecke)\n",
    "\n",
    "color = [\"#\"+''.join([random.choice('0123456789ABCDEF') for j in range(6)])\n",
    "             for i in range(number_of_colors)]\n",
    "strecke['colors'] = color"
   ]
  },
  {
   "cell_type": "code",
   "execution_count": null,
   "metadata": {},
   "outputs": [],
   "source": [
    "ax = strecke.plot(column='colors', figsize=(21*2, 24*2))\n",
    "bahnhöfe.plot(ax=ax)"
   ]
  },
  {
   "cell_type": "code",
   "execution_count": null,
   "metadata": {},
   "outputs": [],
   "source": [
    "bahnhöfe.plot(figsize=(21*2, 24*2))"
   ]
  }
 ],
 "metadata": {
  "language_info": {
   "codemirror_mode": {
    "name": "ipython",
    "version": 3
   },
   "file_extension": ".py",
   "mimetype": "text/x-python",
   "name": "python",
   "nbconvert_exporter": "python",
   "pygments_lexer": "ipython3",
   "version": "3.8.2-final"
  },
  "orig_nbformat": 2,
  "kernelspec": {
   "name": "python38264bittcpvenv536302f1ebac43f284edfb312d4f7961",
   "display_name": "Python 3.8.2 64-bit ('tcp': venv)"
  }
 },
 "nbformat": 4,
 "nbformat_minor": 2
}