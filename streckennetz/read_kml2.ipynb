{
 "cells": [
  {
   "cell_type": "markdown",
   "metadata": {},
   "source": [
    "### Links zu den Daten\n",
    "[Strecke Link](https://geovdbn.deutschebahn.com/pgv-map/geoserver.action?LAYERS=ISR%3AISR_V_GEO_TEN_KLASSIFIZIERUNG&TRANSPARENT=TRUE&FORMAT=kml&VERSION=1.1.1&TILED=false&USERDEFINEDSLD=&SERVICE=WMS&REQUEST=GetMap&VIEWPARAMS=ZEITSCHEIBE%3AUNDEFINED%3BLANG%3ADE%3BALG_DBNETZ_STRECKE%3Aalle%20Strecken%3BJAHR%3A2020&SRS=EPSG%3A31467&BBOX=3250000,5200000,3950000,6100000&WIDTH=700&HEIGHT=900)\n",
    "\n",
    "\n",
    "[Bahnhöfe Link](https://geovdbn.deutschebahn.com/pgv-map/geoserver.action?LAYERS=ISR%3AISR_V_GEO_BETRIEBSSTELLEN_PUNKT&TRANSPARENT=TRUE&FORMAT=kml&VERSION=1.1.1&TILED=false&USERDEFINEDSLD=&SERVICE=WMS&REQUEST=GetMap&VIEWPARAMS=ZEITSCHEIBE%3AUNDEFINED%3BLANG%3ADE%3BALG_DBNETZ_STRECKE%3Aalle%20Strecken%3BJAHR%3A2020&SRS=EPSG%3A31467&BBOX=3250000,5200000,3950000,6100000&WIDTH=700&HEIGHT=900)"
   ]
  },
  {
   "cell_type": "code",
   "execution_count": 2,
   "metadata": {
    "tags": []
   },
   "outputs": [
    {
     "output_type": "stream",
     "name": "stdout",
     "text": "Using local station buffer\nUsing local betriebstellen buffer\n"
    }
   ],
   "source": [
    "import os, sys\n",
    "sys.path.append(\"../\")\n",
    "sys.path.append('../rtd_crawler')\n",
    "import fiona\n",
    "import geopandas as gpd\n",
    "from geopandas.plotting import plot_linestring_collection\n",
    "import matplotlib.pyplot as plt\n",
    "import shapely\n",
    "from shapely.geometry import GeometryCollection, MultiPoint, Point\n",
    "from shapely.ops import nearest_points, linemerge\n",
    "import networkx as nx\n",
    "import random\n",
    "import lxml.etree as etree\n",
    "import re\n",
    "import pandas as pd\n",
    "from tqdm.auto import tqdm\n",
    "from tqdm import tqdm_notebook as tqdm_bar\n",
    "from helpers import StationPhillip, BetriebsstellenBill, NoLocationError\n",
    "import geopy.distance\n",
    "\n",
    "# enable KML support\n",
    "fiona.drvsupport.supported_drivers['kml'] = 'rw'\n",
    "fiona.drvsupport.supported_drivers['KML'] = 'rw'\n",
    "\n",
    "parser = etree.XMLParser(encoding='utf-8', collect_ids=False)\n",
    "stations = StationPhillip(notebook=True)\n",
    "betriebstellen = BetriebsstellenBill(notebook=True)\n",
    "\n",
    "\n",
    "tqdm.pandas(desc='progress')\n",
    "\n",
    "def parse_atr(atr):\n",
    "    atr_name = re.compile(r\"<span class=\\\"atr-name\\\">(.*?)<\\/span>\")\n",
    "    atr_value = re.compile(r\"<span class=\\\"atr-value\\\">(.*?)<\\/span>\")\n",
    "\n",
    "    atr_list = []\n",
    "    for i in range(len(atr)):\n",
    "        attributes = atr.iat[i]\n",
    "        names = [match[1] for match in atr_name.finditer(attributes)]\n",
    "        values = [match[1] for match in atr_value.finditer(attributes)]\n",
    "        atr_list.append(pd.Series(values, names))\n",
    "        \n",
    "    return pd.concat(atr_list, axis=1).T\n",
    "\n",
    "def tranform_geo(strecke):\n",
    "    \"\"\"\n",
    "    transform \n",
    "    ```python\n",
    "        GeometryCollection[\n",
    "            GeometryCollection[\n",
    "                ...\n",
    "            ]\n",
    "        ]\n",
    "    ```\n",
    "    to \n",
    "    ```python\n",
    "        Linestring[\n",
    "            ...\n",
    "        ]\n",
    "    ```\n",
    "    \"\"\"\n",
    "    for i in range(len(strecke)):\n",
    "        new_geo =  []\n",
    "        for g in strecke.iat[i, 2]:\n",
    "            if type(g) == shapely.geometry.collection.GeometryCollection:\n",
    "                for u in g:\n",
    "                    new_geo.append(u)\n",
    "            elif type(g) != shapely.geometry.point.Point:\n",
    "                new_geo.append(g)\n",
    "        strecke.iat[i, 2] = linemerge(GeometryCollection(new_geo))\n",
    "    return strecke\n",
    "\n",
    "def get_map_positions():\n",
    "    map_positions = {}\n",
    "    for i in range(len(strecke)):\n",
    "        if type(strecke.iat[i, 2]) == shapely.geometry.multilinestring.MultiLineString:\n",
    "            pointroute = MultiPoint(strecke.iat[i, 2][0].coords)\n",
    "        else:\n",
    "            try:\n",
    "                pointroute = MultiPoint(strecke.iat[i, 2].coords)\n",
    "            except NotImplementedError:\n",
    "                continue\n",
    "        map_positions[strecke_atr.loc[i, 'source']] = pointroute[0]\n",
    "        map_positions[strecke_atr.loc[i, 'target']] = pointroute[-1]\n",
    "    map_positions = {key: Point(value.x, value.y) for key, value in map_positions.items()}\n",
    "    return map_positions\n",
    "\n",
    "def get_strecke_atr():\n",
    "    strecke_atr = parse_atr(strecke.iloc[:, 1])\n",
    "    strecke_atr['source'] = ''\n",
    "    strecke_atr['target'] = ''\n",
    "    for i in range(len(strecke_atr)):\n",
    "        nodes = strecke_atr.at[i, 'ISR_STRECKE_VON_BIS'].split(' - ')\n",
    "        strecke_atr.at[i, 'source'] = nodes[0]\n",
    "        strecke_atr.at[i, 'target'] = nodes[1]\n",
    "    return strecke_atr\n",
    "\n",
    "def calculate_nearest(row, destination, val, unary_union, col=\"geometry\"):\n",
    "    try:\n",
    "        nearest_geom = nearest_points(row[col], dest_unary)\n",
    "        match_geom = destination.loc[destination.geometry == nearest_geom[1]]\n",
    "        match_value = match_geom[val].to_numpy()[0]\n",
    "        return match_value\n",
    "    except:\n",
    "        return None"
   ]
  },
  {
   "cell_type": "code",
   "execution_count": 8,
   "metadata": {},
   "outputs": [],
   "source": [
    "def name_replace(name):\n",
    "    return name.lower().replace(' ', '').replace('(', '').replace(')', '').replace('.', '')"
   ]
  },
  {
   "cell_type": "code",
   "execution_count": 10,
   "metadata": {},
   "outputs": [
    {
     "output_type": "execute_result",
     "data": {
      "text/plain": "'tübingenhbf'"
     },
     "metadata": {},
     "execution_count": 10
    }
   ],
   "source": [
    "name_replace('Tübingen (Hbf).')"
   ]
  },
  {
   "cell_type": "code",
   "execution_count": 3,
   "metadata": {},
   "outputs": [],
   "source": [
    "strecke = gpd.read_file('../data/ISR-ISR_V_GEO_TEN_KLASSIFIZIERUNG.kml')\n",
    "bahnhöfe = gpd.read_file('../data/ISR-ISR_V_GEO_BETRIEBSSTELLEN_PUNKT.kml')"
   ]
  },
  {
   "cell_type": "code",
   "execution_count": 4,
   "metadata": {},
   "outputs": [],
   "source": [
    "strecke = tranform_geo(strecke)"
   ]
  },
  {
   "cell_type": "code",
   "execution_count": 5,
   "metadata": {},
   "outputs": [],
   "source": [
    "strecke_atr = get_strecke_atr()"
   ]
  },
  {
   "cell_type": "code",
   "execution_count": 6,
   "metadata": {},
   "outputs": [],
   "source": [
    "map_positions = get_map_positions()"
   ]
  },
  {
   "cell_type": "code",
   "execution_count": 7,
   "metadata": {},
   "outputs": [],
   "source": [
    "strecke_graph = nx.from_pandas_edgelist(strecke_atr, source='source', target='target')"
   ]
  },
  {
   "cell_type": "code",
   "execution_count": 7,
   "metadata": {},
   "outputs": [],
   "source": [
    "sta_pos = []\n",
    "for i in range(len(stations)):\n",
    "    sta_pos.append(Point(stations.station_df.at[i, 'lon'], stations.station_df.at[i, 'lat']))"
   ]
  },
  {
   "cell_type": "code",
   "execution_count": 8,
   "metadata": {},
   "outputs": [],
   "source": [
    "sta_pos = MultiPoint(sta_pos)"
   ]
  },
  {
   "cell_type": "code",
   "execution_count": 9,
   "metadata": {},
   "outputs": [],
   "source": [
    "map_positions_df = pd.DataFrame({'bhf':list(map_positions.keys()), 'location':list(map_positions.values())})\n",
    "map_positions_gdf = gpd.GeoDataFrame(map_positions_df, geometry=map_positions_df['location'])"
   ]
  },
  {
   "cell_type": "code",
   "execution_count": 10,
   "metadata": {},
   "outputs": [],
   "source": [
    "stations_gdf = stations.get_geopandas()"
   ]
  },
  {
   "cell_type": "code",
   "execution_count": 11,
   "metadata": {},
   "outputs": [],
   "source": [
    "map_positions_points = MultiPoint(list(map_positions.values()))"
   ]
  },
  {
   "cell_type": "code",
   "execution_count": 13,
   "metadata": {},
   "outputs": [],
   "source": [
    "dest_unary = map_positions_gdf[\"geometry\"].unary_union"
   ]
  },
  {
   "cell_type": "code",
   "execution_count": 23,
   "metadata": {
    "tags": []
   },
   "outputs": [
    {
     "output_type": "stream",
     "name": "stderr",
     "text": "my bar!: 100%|██████████| 7603/7603 [24:20<00:00,  5.21it/s]\n"
    }
   ],
   "source": [
    "stations_gdf['nearest_geom'] = stations_gdf.progress_apply(calculate_nearest, destination=map_positions_gdf, unary_union=dest_unary, val='geometry', axis=1)"
   ]
  },
  {
   "cell_type": "code",
   "execution_count": 27,
   "metadata": {
    "tags": []
   },
   "outputs": [
    {
     "output_type": "stream",
     "name": "stderr",
     "text": "my bar!: 100%|██████████| 7603/7603 [24:36<00:00,  5.15it/s]\n"
    }
   ],
   "source": [
    "stations_gdf['nearest_node'] = stations_gdf.progress_apply(calculate_nearest, destination=map_positions_gdf, unary_union=dest_unary, val='bhf', axis=1)"
   ]
  },
  {
   "cell_type": "code",
   "execution_count": 31,
   "metadata": {},
   "outputs": [],
   "source": [
    "stations_gdf.to_csv('station_matches.csv')"
   ]
  },
  {
   "cell_type": "code",
   "execution_count": null,
   "metadata": {
    "tags": []
   },
   "outputs": [],
   "source": [
    "nearest = []\n",
    "for i in tqdm(range(len(sta_pos))):\n",
    "    try:\n",
    "        nearest.append(nearest_points(sta_pos[i], map_positions_points)[1])\n",
    "    except ValueError:\n",
    "        nearest.append(None)"
   ]
  },
  {
   "cell_type": "code",
   "execution_count": null,
   "metadata": {
    "tags": []
   },
   "outputs": [],
   "source": [
    "distance = []\n",
    "for i in tqdm(range(len(nearest))):\n",
    "    try:\n",
    "        distance.append(geopy.distance.distance(sta_pos[i].coords, nearest[i].coords).km)\n",
    "    except AttributeError:\n",
    "        distance.append(None)"
   ]
  },
  {
   "cell_type": "code",
   "execution_count": null,
   "metadata": {},
   "outputs": [],
   "source": [
    "def get_to_far(threshold):\n",
    "    to_far = 0\n",
    "    for dist in distance:\n",
    "        if dist and dist > threshold:\n",
    "            to_far += 1\n",
    "    return to_far"
   ]
  },
  {
   "cell_type": "code",
   "execution_count": null,
   "metadata": {
    "tags": []
   },
   "outputs": [],
   "source": [
    "for station_coords in tqdm(nearest):\n",
    "    print(station_coords)\n",
    "    list(sta_pos).index(station_coords)"
   ]
  },
  {
   "cell_type": "code",
   "execution_count": null,
   "metadata": {},
   "outputs": [],
   "source": [
    "data = {1 /(threshold ** 2): get_to_far((1 /(threshold ** 2))) for threshold in range(5, 15)}"
   ]
  },
  {
   "cell_type": "code",
   "execution_count": null,
   "metadata": {},
   "outputs": [],
   "source": [
    "plt.plot(list(data.keys()), list(data.values()))"
   ]
  },
  {
   "cell_type": "code",
   "execution_count": null,
   "metadata": {},
   "outputs": [],
   "source": [
    "positions = {}\n",
    "for station in strecke_graph.nodes():\n",
    "    try:\n",
    "        positions[station] = betriebstellen.get_location(name=station)\n",
    "    except KeyError:\n",
    "        continue\n",
    "    except NoLocationError:\n",
    "        continue"
   ]
  },
  {
   "cell_type": "code",
   "execution_count": null,
   "metadata": {},
   "outputs": [],
   "source": [
    "pos = nx.spring_layout(strecke_graph, pos=map_positions, fixed=map_positions.keys(), k=0.001)"
   ]
  },
  {
   "cell_type": "code",
   "execution_count": null,
   "metadata": {},
   "outputs": [],
   "source": [
    "fig, ax = plt.subplots(figsize=(21*2, 24*2))\n",
    "ax = nx.draw(strecke_graph, pos=pos, ax=ax)\n",
    "bahnhöfe.plot(ax=ax)"
   ]
  },
  {
   "cell_type": "code",
   "execution_count": null,
   "metadata": {},
   "outputs": [],
   "source": [
    "number_of_colors = len(strecke)\n",
    "\n",
    "color = [\"#\"+''.join([random.choice('0123456789ABCDEF') for j in range(6)])\n",
    "             for i in range(number_of_colors)]\n",
    "strecke['colors'] = color"
   ]
  },
  {
   "cell_type": "code",
   "execution_count": null,
   "metadata": {},
   "outputs": [],
   "source": [
    "ax = strecke.plot(column='colors', figsize=(21*2, 24*2))\n",
    "bahnhöfe.plot(ax=ax)"
   ]
  },
  {
   "cell_type": "code",
   "execution_count": null,
   "metadata": {},
   "outputs": [],
   "source": [
    "bahnhöfe.plot(figsize=(21*2, 24*2))"
   ]
  }
 ],
 "metadata": {
  "language_info": {
   "codemirror_mode": {
    "name": "ipython",
    "version": 3
   },
   "file_extension": ".py",
   "mimetype": "text/x-python",
   "name": "python",
   "nbconvert_exporter": "python",
   "pygments_lexer": "ipython3",
   "version": "3.8.2-final"
  },
  "orig_nbformat": 2,
  "kernelspec": {
   "name": "python38264bittcpvenv536302f1ebac43f284edfb312d4f7961",
   "display_name": "Python 3.8.2 64-bit ('tcp': venv)"
  }
 },
 "nbformat": 4,
 "nbformat_minor": 2
}