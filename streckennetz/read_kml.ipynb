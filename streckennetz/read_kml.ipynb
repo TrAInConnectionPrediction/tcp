{
 "cells": [
  {
   "cell_type": "code",
   "execution_count": null,
   "metadata": {},
   "outputs": [],
   "source": [
    "import fiona\n",
    "import geopandas as gpd\n",
    "from geopandas.plotting import plot_linestring_collection\n",
    "import matplotlib.pyplot as plt\n",
    "import shapely\n",
    "from shapely.geometry import GeometryCollection\n",
    "import networkx as nx\n",
    "import random\n",
    "\n",
    "# enable KML support\n",
    "fiona.drvsupport.supported_drivers['kml'] = 'rw'\n",
    "fiona.drvsupport.supported_drivers['KML'] = 'rw'"
   ]
  },
  {
   "cell_type": "markdown",
   "metadata": {},
   "source": [
    "### Read kml files"
   ]
  },
  {
   "cell_type": "code",
   "execution_count": null,
   "metadata": {},
   "outputs": [],
   "source": [
    "strecke = gpd.read_file('../data/ISR-ISR_V_GEO_TEN_KLASSIFIZIERUNG.kml')\n",
    "bahnhöfe = gpd.read_file('../data/ISR-ISR_V_GEO_BETRIEBSSTELLEN_PUNKT.kml')"
   ]
  },
  {
   "cell_type": "markdown",
   "metadata": {},
   "source": [
    "transform \n",
    "```python\n",
    "    GeometryCollection[\n",
    "        GeometryCollection[\n",
    "            ...\n",
    "        ]\n",
    "    ]\n",
    "```\n",
    "to \n",
    "```python\n",
    "    GeometryCollection[\n",
    "        ...\n",
    "    ]\n",
    "```"
   ]
  },
  {
   "cell_type": "code",
   "execution_count": null,
   "metadata": {
    "tags": []
   },
   "outputs": [],
   "source": [
    "for i in range(len(strecke)):\n",
    "    new_geo =  []\n",
    "    for g in strecke.iat[i, 2]:\n",
    "        if type(g) == shapely.geometry.collection.GeometryCollection:\n",
    "            for u in g:\n",
    "                new_geo.append(u)\n",
    "        elif type(g) != shapely.geometry.point.Point:\n",
    "            new_geo.append(g)\n",
    "    strecke.iat[i, 2] = GeometryCollection(new_geo)"
   ]
  },
  {
   "cell_type": "code",
   "execution_count": null,
   "metadata": {},
   "outputs": [],
   "source": [
    "number_of_colors = len(strecke)\n",
    "\n",
    "color = [\"#\"+''.join([random.choice('0123456789ABCDEF') for j in range(6)])\n",
    "             for i in range(number_of_colors)]\n",
    "strecke['colors'] = color"
   ]
  },
  {
   "cell_type": "code",
   "execution_count": null,
   "metadata": {},
   "outputs": [],
   "source": [
    "ax = strecke.plot(column='colors', figsize=(21*2, 24*2))\n",
    "bahnhöfe.plot(ax=ax)"
   ]
  },
  {
   "cell_type": "code",
   "execution_count": null,
   "metadata": {
    "tags": []
   },
   "outputs": [],
   "source": [
    "bahnhöfe.plot(figsize=(21*2, 24*2))"
   ]
  }
 ],
 "metadata": {
  "language_info": {
   "codemirror_mode": {
    "name": "ipython",
    "version": 3
   },
   "file_extension": ".py",
   "mimetype": "text/x-python",
   "name": "python",
   "nbconvert_exporter": "python",
   "pygments_lexer": "ipython3",
   "version": "3.8.2-final"
  },
  "orig_nbformat": 2,
  "kernelspec": {
   "name": "python38264bit197d6ad53bf44cf9bedf7adba0fe02dd",
   "display_name": "Python 3.8.2 64-bit"
  }
 },
 "nbformat": 4,
 "nbformat_minor": 2
}