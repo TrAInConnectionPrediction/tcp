{
 "cells": [
  {
   "cell_type": "markdown",
   "metadata": {},
   "source": [
    "### Links zu den Daten\n",
    "[Strecke Link](https://geovdbn.deutschebahn.com/pgv-map/geoserver.action?LAYERS=ISR%3AISR_V_GEO_TEN_KLASSIFIZIERUNG&TRANSPARENT=TRUE&FORMAT=kml&VERSION=1.1.1&TILED=false&USERDEFINEDSLD=&SERVICE=WMS&REQUEST=GetMap&VIEWPARAMS=ZEITSCHEIBE%3AUNDEFINED%3BLANG%3ADE%3BALG_DBNETZ_STRECKE%3Aalle%20Strecken%3BJAHR%3A2020&SRS=EPSG%3A31467&BBOX=3250000,5200000,3950000,6100000&WIDTH=700&HEIGHT=900)\n",
    "\n",
    "\n",
    "[Bahnhöfe Link](https://geovdbn.deutschebahn.com/pgv-map/geoserver.action?LAYERS=ISR%3AISR_V_GEO_BETRIEBSSTELLEN_PUNKT&TRANSPARENT=TRUE&FORMAT=kml&VERSION=1.1.1&TILED=false&USERDEFINEDSLD=&SERVICE=WMS&REQUEST=GetMap&VIEWPARAMS=ZEITSCHEIBE%3AUNDEFINED%3BLANG%3ADE%3BALG_DBNETZ_STRECKE%3Aalle%20Strecken%3BJAHR%3A2020&SRS=EPSG%3A31467&BBOX=3250000,5200000,3950000,6100000&WIDTH=700&HEIGHT=900)"
   ]
  },
  {
   "cell_type": "code",
   "execution_count": 1,
   "metadata": {},
   "outputs": [
    {
     "output_type": "display_data",
     "data": {
      "text/plain": "HBox(children=(FloatProgress(value=1.0, bar_style='info', max=1.0), HTML(value='')))",
      "application/vnd.jupyter.widget-view+json": {
       "version_major": 2,
       "version_minor": 0,
       "model_id": "44d26557e77045ed8bb69a248fb29891"
      }
     },
     "metadata": {}
    }
   ],
   "source": [
    "import fiona\n",
    "import geopandas as gpd\n",
    "from geopandas.plotting import plot_linestring_collection\n",
    "import matplotlib.pyplot as plt\n",
    "import shapely\n",
    "from shapely.geometry import GeometryCollection\n",
    "import networkx as nx\n",
    "import random\n",
    "import lxml.etree as etree\n",
    "import re\n",
    "import pandas as pd\n",
    "from tqdm import tqdm_notebook as tqdm\n",
    "tqdm().pandas()\n",
    "\n",
    "# enable KML support\n",
    "fiona.drvsupport.supported_drivers['kml'] = 'rw'\n",
    "fiona.drvsupport.supported_drivers['KML'] = 'rw'\n",
    "\n",
    "parser = etree.XMLParser(encoding='utf-8', collect_ids=False)"
   ]
  },
  {
   "cell_type": "code",
   "execution_count": null,
   "metadata": {},
   "outputs": [],
   "source": [
    "def xml_to_json(xml):\n",
    "    \"\"\"a recursive function to convert xml to list dict mix\n",
    "\n",
    "    Arguments:\n",
    "        xml {etree} -- the xml to convert\n",
    "\n",
    "    Returns:\n",
    "        dict -- a dict list mix of the xml\n",
    "    \"\"\"\n",
    "    parsed = dict(xml.attrib)\n",
    "    for xml_child in list(xml):\n",
    "        if xml_child.tag in parsed:\n",
    "            parsed[xml_child.tag].append(xml_to_json(xml_child))\n",
    "        else:\n",
    "            parsed[xml_child.tag] = [xml_to_json(xml_child)]\n",
    "    return parsed"
   ]
  },
  {
   "cell_type": "markdown",
   "metadata": {},
   "source": [
    "### Read kml files"
   ]
  },
  {
   "cell_type": "code",
   "execution_count": null,
   "metadata": {},
   "outputs": [],
   "source": [
    "strecke = gpd.read_file('../data/ISR-ISR_V_GEO_TEN_KLASSIFIZIERUNG.kml')\n",
    "# bahnhöfe = gpd.read_file('../data/ISR-ISR_V_GEO_BETRIEBSSTELLEN_PUNKT.kml')"
   ]
  },
  {
   "cell_type": "markdown",
   "metadata": {},
   "source": [
    "transform \n",
    "```python\n",
    "    GeometryCollection[\n",
    "        GeometryCollection[\n",
    "            ...\n",
    "        ]\n",
    "    ]\n",
    "```\n",
    "to \n",
    "```python\n",
    "    GeometryCollection[\n",
    "        ...\n",
    "    ]\n",
    "```"
   ]
  },
  {
   "cell_type": "code",
   "execution_count": null,
   "metadata": {
    "tags": []
   },
   "outputs": [],
   "source": [
    "for i in range(len(strecke)):\n",
    "    new_geo =  []\n",
    "    for g in strecke.iat[i, 2]:\n",
    "        if type(g) == shapely.geometry.collection.GeometryCollection:\n",
    "            for u in g:\n",
    "                new_geo.append(u)\n",
    "        elif type(g) != shapely.geometry.point.Point:\n",
    "            new_geo.append(g)\n",
    "    strecke.iat[i, 2] = GeometryCollection(new_geo)"
   ]
  },
  {
   "cell_type": "code",
   "execution_count": null,
   "metadata": {
    "tags": []
   },
   "outputs": [],
   "source": [
    "atr_name = re.compile(r\"<span class=\\\"atr-name\\\">(.*?)<\\/span>\")\n",
    "atr_value = re.compile(r'<span class=\\\"atr-value\\\">(.*?)<\\/span>')\n",
    "\n",
    "strecke_atr = []\n",
    "with tqdm(total=len(strecke)) as pbar:\n",
    "    for i in range(len(strecke)):\n",
    "        attributes = strecke.iat[i, 1]\n",
    "        names = [match[1] for match in atr_name.finditer(attributes)]\n",
    "        values = [match[1] for match in atr_value.finditer(attributes)]\n",
    "        strecke_atr.append(pd.Series(values, names))\n",
    "        pbar.update(1)\n",
    "\n",
    "strecke_atr = pd.concat(strecke_atr, axis=1).T"
   ]
  },
  {
   "cell_type": "code",
   "execution_count": null,
   "metadata": {},
   "outputs": [],
   "source": [
    "strecke_atr"
   ]
  },
  {
   "cell_type": "code",
   "execution_count": null,
   "metadata": {},
   "outputs": [],
   "source": [
    "number_of_colors = len(strecke)\n",
    "\n",
    "color = [\"#\"+''.join([random.choice('0123456789ABCDEF') for j in range(6)])\n",
    "             for i in range(number_of_colors)]\n",
    "strecke['colors'] = color"
   ]
  },
  {
   "cell_type": "code",
   "execution_count": null,
   "metadata": {},
   "outputs": [],
   "source": [
    "ax = strecke.plot(column='colors', figsize=(21*2, 24*2))\n",
    "bahnhöfe.plot(ax=ax)"
   ]
  },
  {
   "cell_type": "code",
   "execution_count": null,
   "metadata": {
    "tags": []
   },
   "outputs": [],
   "source": [
    "bahnhöfe.plot(figsize=(21*2, 24*2))"
   ]
  }
 ],
 "metadata": {
  "language_info": {
   "codemirror_mode": {
    "name": "ipython",
    "version": 3
   },
   "file_extension": ".py",
   "mimetype": "text/x-python",
   "name": "python",
   "nbconvert_exporter": "python",
   "pygments_lexer": "ipython3",
   "version": "3.8.2-final"
  },
  "orig_nbformat": 2,
  "kernelspec": {
   "name": "python38264bit197d6ad53bf44cf9bedf7adba0fe02dd",
   "display_name": "Python 3.8.2 64-bit"
  }
 },
 "nbformat": 4,
 "nbformat_minor": 2
}