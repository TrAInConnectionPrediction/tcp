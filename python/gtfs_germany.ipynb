{
 "cells": [
  {
   "cell_type": "code",
   "execution_count": 2,
   "metadata": {},
   "outputs": [
    {
     "output_type": "error",
     "ename": "ModuleNotFoundError",
     "evalue": "No module named 'pandas'",
     "traceback": [
      "\u001b[0;31m---------------------------------------------------------------------------\u001b[0m",
      "\u001b[0;31mModuleNotFoundError\u001b[0m                       Traceback (most recent call last)",
      "\u001b[0;32m<ipython-input-2-bd89a1a2c5e6>\u001b[0m in \u001b[0;36m<module>\u001b[0;34m\u001b[0m\n\u001b[1;32m      3\u001b[0m \u001b[0;32mimport\u001b[0m \u001b[0mjson\u001b[0m\u001b[0;34m\u001b[0m\u001b[0;34m\u001b[0m\u001b[0m\n\u001b[1;32m      4\u001b[0m \u001b[0;34m\u001b[0m\u001b[0m\n\u001b[0;32m----> 5\u001b[0;31m \u001b[0;32mimport\u001b[0m \u001b[0mpandas\u001b[0m \u001b[0;32mas\u001b[0m \u001b[0mpd\u001b[0m\u001b[0;34m\u001b[0m\u001b[0;34m\u001b[0m\u001b[0m\n\u001b[0m\u001b[1;32m      6\u001b[0m \u001b[0;32mimport\u001b[0m \u001b[0mnumpy\u001b[0m \u001b[0;32mas\u001b[0m \u001b[0mnp\u001b[0m\u001b[0;34m\u001b[0m\u001b[0;34m\u001b[0m\u001b[0m\n\u001b[1;32m      7\u001b[0m \u001b[0;32mimport\u001b[0m \u001b[0mgeopandas\u001b[0m \u001b[0;32mas\u001b[0m \u001b[0mgp\u001b[0m\u001b[0;34m\u001b[0m\u001b[0;34m\u001b[0m\u001b[0m\n",
      "\u001b[0;31mModuleNotFoundError\u001b[0m: No module named 'pandas'"
     ]
    }
   ],
   "source": [
    "import sys\n",
    "from pathlib import Path\n",
    "import json\n",
    "\n",
    "import pandas as pd\n",
    "import numpy as np\n",
    "import geopandas as gp\n",
    "import matplotlib\n",
    "\n",
    "DIR = Path('..')\n",
    "sys.path.append(str(DIR))\n",
    "\n",
    "import gtfs_kit as gk\n",
    "\n",
    "DATA_DIR = DIR/'data/'\n",
    "\n",
    "%load_ext autoreload\n",
    "%autoreload 2\n",
    "%matplotlib inline"
   ]
  },
  {
   "cell_type": "code",
   "execution_count": null,
   "metadata": {},
   "outputs": [],
   "source": [
    "# List feed\n",
    "\n",
    "path = DATA_DIR/'gtfs-germany.zip'\n",
    "gk.list_feed(path)"
   ]
  },
  {
   "cell_type": "code",
   "execution_count": null,
   "metadata": {},
   "outputs": [],
   "source": [
    "# Read feed and describe\n",
    "\n",
    "path = DATA_DIR/'gtfs-germany.zip'\n",
    "feed = gk.read_feed(path, dist_units='km')\n",
    "feed.describe()"
   ]
  },
  {
   "cell_type": "code",
   "execution_count": null,
   "metadata": {},
   "outputs": [],
   "source": [
    "# Validate\n",
    "\n",
    "feed.validate()"
   ]
  },
  {
   "cell_type": "code",
   "execution_count": null,
   "metadata": {},
   "outputs": [],
   "source": [
    "# Append shape_dist_traveled column to stop times\n",
    "\n",
    "display(feed.stop_times.head().T)\n",
    "\n",
    "feed = feed.append_dist_to_stop_times()\n",
    "feed.stop_times.head().T"
   ]
  },
  {
   "cell_type": "code",
   "execution_count": null,
   "metadata": {},
   "outputs": [],
   "source": [
    "#Check for errors in stops by plotting them to a map\n",
    "feed.map_stops(feed.stops.stop_id[:])\n",
    "\n",
    "#Check for errors in routes by plotting them to a map\n",
    "#feed.map_routes(feed.routes.route_id.iloc[:], include_stops=False)"
   ]
  },
  {
   "cell_type": "code",
   "execution_count": null,
   "metadata": {},
   "outputs": [],
   "source": [
    "# Choose study dates\n",
    "\n",
    "week = feed.get_first_week()\n",
    "dates = [week[4], week[6]]  # First Friday and Sunday\n",
    "dates"
   ]
  },
  {
   "cell_type": "code",
   "execution_count": null,
   "metadata": {},
   "outputs": [],
   "source": [
    "# Compute feed time series\n",
    "\n",
    "trip_stats = feed.compute_trip_stats()\n",
    "trip_stats.head().T\n",
    "fts = feed.compute_feed_time_series(trip_stats, dates, freq='6H')\n",
    "fts"
   ]
  },
  {
   "cell_type": "code",
   "execution_count": null,
   "metadata": {},
   "outputs": [],
   "source": [
    "gk.downsample(fts, freq='12H')\n"
   ]
  },
  {
   "cell_type": "code",
   "execution_count": null,
   "metadata": {},
   "outputs": [],
   "source": [
    "# Compute feed stats for first week\n",
    "\n",
    "feed_stats = feed.compute_feed_stats(trip_stats, week)\n",
    "feed_stats"
   ]
  },
  {
   "cell_type": "code",
   "execution_count": null,
   "metadata": {},
   "outputs": [],
   "source": [
    "# Compute route time series\n",
    "\n",
    "rts = feed.compute_route_time_series(trip_stats, dates, freq='12H')\n",
    "rts"
   ]
  },
  {
   "cell_type": "code",
   "execution_count": null,
   "metadata": {},
   "outputs": [],
   "source": [
    "# Slice time series\n",
    "\n",
    "inds = ['service_distance', 'service_duration', 'service_speed']\n",
    "rids = ['110-423', '110N-423']\n",
    "\n",
    "rts.loc[:, (inds, rids)]"
   ]
  },
  {
   "cell_type": "code",
   "execution_count": null,
   "metadata": {},
   "outputs": [],
   "source": [
    "# Slice again by cross-section\n",
    "\n",
    "rts.xs(rids[0], axis=\"columns\", level=1)"
   ]
  },
  {
   "cell_type": "code",
   "execution_count": null,
   "metadata": {},
   "outputs": [],
   "source": [
    "# Compute trip locations for every hour\n",
    "\n",
    "rng = pd.date_range('1/1/2000', periods=24, freq='H')\n",
    "times = [t.strftime('%H:%M:%S') for t in rng]\n",
    "loc = feed.locate_trips(dates[0], times)\n",
    "loc.head()"
   ]
  },
  {
   "cell_type": "code",
   "execution_count": null,
   "metadata": {},
   "outputs": [],
   "source": [
    "# Build a route timetable\n",
    "\n",
    "route_id = feed.routes['route_id'].iat[0]\n",
    "feed.build_route_timetable(route_id, dates).T"
   ]
  },
  {
   "cell_type": "code",
   "execution_count": null,
   "metadata": {},
   "outputs": [],
   "source": [
    "# Compute screen line counts\n",
    "\n",
    "path = DATA_DIR/'cairns_screen_lines.geojson'\n",
    "lines = gp.read_file(path)\n",
    "\n",
    "display(lines)\n",
    "\n",
    "feed.compute_screen_line_counts(lines, dates)"
   ]
  },
  {
   "cell_type": "code",
   "execution_count": null,
   "metadata": {},
   "outputs": [],
   "source": [
    "# Map routes\n",
    "\n",
    "rids = feed.routes.route_id.loc[2:4]\n",
    "feed.map_routes(rids, include_stops=True)\n"
   ]
  },
  {
   "cell_type": "code",
   "execution_count": null,
   "metadata": {},
   "outputs": [],
   "source": []
  }
 ],
 "metadata": {
  "kernelspec": {
   "name": "python38564bitf758a6857a254841bcb52e28d0cb65f0",
   "display_name": "Python 3.8.5 64-bit",
   "language": "python"
  },
  "language_info": {
   "codemirror_mode": {
    "name": "ipython",
    "version": 3
   },
   "file_extension": ".py",
   "mimetype": "text/x-python",
   "name": "python",
   "nbconvert_exporter": "python",
   "pygments_lexer": "ipython3",
   "version": "3.8.5"
  },
  "metadata": {
   "interpreter": {
    "hash": "916dbcbb3f70747c44a77c7bcd40155683ae19c65e1c03b4aa3499c5328201f1"
   }
  }
 },
 "nbformat": 4,
 "nbformat_minor": 1
}